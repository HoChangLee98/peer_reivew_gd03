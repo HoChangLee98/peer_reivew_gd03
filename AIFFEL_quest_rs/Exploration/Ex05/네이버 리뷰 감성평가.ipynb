{
 "cells": [
  {
   "cell_type": "markdown",
   "id": "90789c42",
   "metadata": {},
   "source": [
    "# 프로젝트 : 네이버 영화리뷰 감성분석 도전하기\n",
    "\n",
    "코더 : 임성범   \n",
    "\n",
    "데이터셋 : 네이버 영화리뷰"
   ]
  },
  {
   "cell_type": "markdown",
   "id": "bb8a824c",
   "metadata": {},
   "source": [
    "# 0) 라이브러리 호출"
   ]
  },
  {
   "cell_type": "code",
   "execution_count": 20,
   "id": "4e3175f5",
   "metadata": {},
   "outputs": [],
   "source": [
    "import pandas\n",
    "import konlpy\n",
    "import gensim\n",
    "import pandas as pd\n",
    "import matplotlib.pyplot as plt\n",
    "from konlpy.tag import Mecab\n",
    "import numpy as np\n",
    "from collections import Counter\n",
    "\n",
    "import tensorflow as tf"
   ]
  },
  {
   "cell_type": "markdown",
   "id": "e7ab7668",
   "metadata": {},
   "source": [
    "# 1) 데이터 준비와 확인"
   ]
  },
  {
   "cell_type": "code",
   "execution_count": 3,
   "id": "d0a2ceb6",
   "metadata": {},
   "outputs": [],
   "source": [
    "train_data = pd.read_table('~/aiffel/sentiment_classification/data/ratings_train.txt')\n",
    "test_data = pd.read_table('~/aiffel/sentiment_classification/data/ratings_test.txt')\n"
   ]
  },
  {
   "cell_type": "markdown",
   "id": "d9977984",
   "metadata": {},
   "source": [
    "# 2) 데이터로더 구성"
   ]
  },
  {
   "cell_type": "code",
   "execution_count": 61,
   "id": "cf069354",
   "metadata": {},
   "outputs": [],
   "source": [
    "tokenizer = Mecab()\n",
    "stopwords = ['의','가','이','은','들','는','좀','잘','걍','과','도','를','으로','자','에','와','한','하다']\n",
    "\n",
    "def load_data(train_data, test_data, num_words=10000):\n",
    "    train_data.drop_duplicates(subset=['document'], inplace=True)\n",
    "    train_data = train_data.dropna(how = 'any') \n",
    "    test_data.drop_duplicates(subset=['document'], inplace=True)\n",
    "    test_data = test_data.dropna(how = 'any') \n",
    "    \n",
    "    X_train = []\n",
    "    for sentence in train_data['document']:\n",
    "        temp_X = tokenizer.morphs(sentence) # 토큰화\n",
    "        temp_X = [word for word in temp_X if not word in stopwords] # 불용어 제거\n",
    "        X_train.append(temp_X)\n",
    "\n",
    "    X_test = []\n",
    "    for sentence in test_data['document']:\n",
    "        temp_X = tokenizer.morphs(sentence) # 토큰화\n",
    "        temp_X = [word for word in temp_X if not word in stopwords] # 불용어 제거\n",
    "        X_test.append(temp_X)\n",
    "    \n",
    "    words = np.concatenate(X_train).tolist()\n",
    "    counter = Counter(words)\n",
    "    counter = counter.most_common(10000-4)\n",
    "    vocab = ['', '', '', ''] + [key for key, _ in counter]\n",
    "    word_to_index = {word:index for index, word in enumerate(vocab)}\n",
    "        \n",
    "    def wordlist_to_indexlist(wordlist):\n",
    "        return [word_to_index[word] if word in word_to_index else word_to_index[''] for word in wordlist]\n",
    "        \n",
    "    X_train = list(map(wordlist_to_indexlist, X_train))\n",
    "    X_test = list(map(wordlist_to_indexlist, X_test))\n",
    "        \n",
    "    return X_train, np.array(list(train_data['label'])), X_test, np.array(list(test_data['label'])), word_to_index\n",
    "    \n",
    "X_train, y_train, X_test, y_test, word_to_index = load_data(train_data, test_data)"
   ]
  },
  {
   "cell_type": "code",
   "execution_count": 62,
   "id": "d2a003b7",
   "metadata": {},
   "outputs": [],
   "source": [
    "index_to_word = {index:word for word, index in word_to_index.items()}"
   ]
  },
  {
   "cell_type": "code",
   "execution_count": 63,
   "id": "3a68110c",
   "metadata": {},
   "outputs": [],
   "source": [
    "# 문장 1개를 활용할 딕셔너리와 함께 주면, 단어 인덱스 리스트 벡터로 변환해 주는 함수입니다. \n",
    "# 단, 모든 문장은 <BOS>로 시작하는 것으로 합니다. \n",
    "def get_encoded_sentence(sentence, word_to_index):\n",
    "    return [word_to_index['<BOS>']]+[word_to_index[word] if word in word_to_index else word_to_index['<UNK>'] for word in sentence.split()]\n",
    "\n",
    "# 여러 개의 문장 리스트를 한꺼번에 단어 인덱스 리스트 벡터로 encode해 주는 함수입니다. \n",
    "def get_encoded_sentences(sentences, word_to_index):\n",
    "    return [get_encoded_sentence(sentence, word_to_index) for sentence in sentences]\n",
    "\n",
    "# 숫자 벡터로 encode된 문장을 원래대로 decode하는 함수입니다. \n",
    "def get_decoded_sentence(encoded_sentence, index_to_word):\n",
    "    return ' '.join(index_to_word[index] if index in index_to_word else '<UNK>' for index in encoded_sentence[1:])  #[1:]를 통해 <BOS>를 제외\n",
    "\n",
    "# 여러 개의 숫자 벡터로 encode된 문장을 한꺼번에 원래대로 decode하는 함수입니다. \n",
    "def get_decoded_sentences(encoded_sentences, index_to_word):\n",
    "    return [get_decoded_sentence(encoded_sentence, index_to_word) for encoded_sentence in encoded_sentences]"
   ]
  },
  {
   "cell_type": "markdown",
   "id": "90459857",
   "metadata": {},
   "source": [
    "# 3) 모델 구성을 위한 데이터 분석 및 가공"
   ]
  },
  {
   "cell_type": "code",
   "execution_count": 73,
   "id": "42767dfe",
   "metadata": {},
   "outputs": [
    {
     "data": {
      "text/plain": [
       "10000"
      ]
     },
     "execution_count": 73,
     "metadata": {},
     "output_type": "execute_result"
    }
   ],
   "source": [
    "len(index_to_word)"
   ]
  },
  {
   "cell_type": "code",
   "execution_count": 65,
   "id": "4dbfe885",
   "metadata": {},
   "outputs": [
    {
     "name": "stdout",
     "output_type": "stream",
     "text": [
      "훈련 샘플 개수: 146182, 테스트 개수: 49157\n"
     ]
    }
   ],
   "source": [
    "print(f\"훈련 샘플 개수: {len(X_train)}, 테스트 개수: {len(X_test)}\")"
   ]
  },
  {
   "cell_type": "code",
   "execution_count": 66,
   "id": "6fdc9306",
   "metadata": {},
   "outputs": [
    {
     "name": "stdout",
     "output_type": "stream",
     "text": [
      "[32, 74, 919, 4, 4, 39, 228, 20, 33, 748]\n",
      "라벨:  0\n",
      "1번째 리뷰 문장 길이:  10\n",
      "2번째 리뷰 문장 길이:  17\n"
     ]
    }
   ],
   "source": [
    "print(X_train[0])  # 1번째 리뷰데이터\n",
    "print('라벨: ', y_train[0])  # 1번째 리뷰데이터의 라벨\n",
    "print('1번째 리뷰 문장 길이: ', len(X_train[0]))\n",
    "print('2번째 리뷰 문장 길이: ', len(X_train[1]))"
   ]
  },
  {
   "cell_type": "code",
   "execution_count": 67,
   "id": "c6f632cf",
   "metadata": {},
   "outputs": [
    {
     "name": "stdout",
     "output_type": "stream",
     "text": [
      "더 빙 . . 진짜 짜증 나 네요 목소리\n"
     ]
    }
   ],
   "source": [
    "print(get_decoded_sentence(X_train[0], index_to_word))"
   ]
  },
  {
   "cell_type": "code",
   "execution_count": 74,
   "id": "1f01671f",
   "metadata": {},
   "outputs": [
    {
     "data": {
      "text/plain": [
       "10000"
      ]
     },
     "execution_count": 74,
     "metadata": {},
     "output_type": "execute_result"
    }
   ],
   "source": [
    "len(index_to_word)"
   ]
  },
  {
   "cell_type": "code",
   "execution_count": 68,
   "id": "e6685130",
   "metadata": {},
   "outputs": [
    {
     "name": "stdout",
     "output_type": "stream",
     "text": [
      "<BOS>\n",
      "1909\n",
      "the\n",
      "더 빙 . . 진짜 짜증 나 네요 목소리\n"
     ]
    }
   ],
   "source": [
    "# 처음 몇 개 인덱스는 사전에 정의되어 있습니다.\n",
    "word_to_index[\"<PAD>\"] = 0\n",
    "word_to_index[\"<BOS>\"] = 1\n",
    "word_to_index[\"<UNK>\"] = 2  # unknown\n",
    "word_to_index[\"<UNUSED>\"] = 3  # unknown\n",
    "\n",
    "index_to_word = {index:word for word, index in word_to_index.items()}\n",
    "\n",
    "print(index_to_word[1])     \n",
    "print(word_to_index['the'])  \n",
    "print(index_to_word[1909])     \n",
    "\n",
    "# 보정 후 x_train[0] 데이터\n",
    "print(get_decoded_sentence(X_train[0], index_to_word))"
   ]
  },
  {
   "cell_type": "code",
   "execution_count": 75,
   "id": "ab834921",
   "metadata": {},
   "outputs": [
    {
     "name": "stdout",
     "output_type": "stream",
     "text": [
      "재 <UNUSED>\n"
     ]
    }
   ],
   "source": [
    "print(get_decoded_sentence(X_train[2], index_to_word))"
   ]
  },
  {
   "cell_type": "code",
   "execution_count": 89,
   "id": "bfe579af",
   "metadata": {},
   "outputs": [
    {
     "name": "stdout",
     "output_type": "stream",
     "text": [
      "문장길이 평균 :  15.96940191154864\n",
      "문장길이 최대 :  116\n",
      "문장길이 표준편차 :  12.843571191092\n",
      "(146182, 41)\n"
     ]
    }
   ],
   "source": [
    "total_data_text = list(X_train) + list(X_test)\n",
    "# 텍스트데이터 문장길이의 리스트를 생성한 후\n",
    "num_tokens = [len(tokens) for tokens in total_data_text]\n",
    "num_tokens = np.array(num_tokens)\n",
    "# 문장길이의 평균값, 최대값, 표준편차를 계산해 본다. \n",
    "print('문장길이 평균 : ', np.mean(num_tokens))\n",
    "print('문장길이 최대 : ', np.max(num_tokens))\n",
    "print('문장길이 표준편차 : ', np.std(num_tokens))\n",
    "\n",
    "# 예를들어, 최대 길이를 (평균 + 2*표준편차)로 한다면,  \n",
    "max_tokens = np.mean(num_tokens) + 2 * np.std(num_tokens)\n",
    "maxlen = int(max_tokens)\n",
    "X_train = tf.keras.preprocessing.sequence.pad_sequences(X_train,\n",
    "                                                        value=word_to_index[\"<PAD>\"],\n",
    "                                                        padding='pre', # 혹은 'pre'\n",
    "                                                        maxlen=maxlen)\n",
    "\n",
    "X_test = tf.keras.preprocessing.sequence.pad_sequences(X_test,\n",
    "                                                       value=word_to_index[\"<PAD>\"],\n",
    "                                                       padding='pre', # 혹은 'pre'\n",
    "                                                       maxlen=maxlen)\n",
    "\n",
    "print(X_train.shape)"
   ]
  },
  {
   "cell_type": "markdown",
   "id": "87a21865",
   "metadata": {},
   "source": [
    "# 실험 시작"
   ]
  },
  {
   "cell_type": "markdown",
   "id": "e5e29079",
   "metadata": {},
   "source": [
    "### 1-1 임베딩 학습, LSTM 2개 , Dense 레이어 2개"
   ]
  },
  {
   "cell_type": "code",
   "execution_count": 86,
   "id": "9ef47762",
   "metadata": {},
   "outputs": [
    {
     "name": "stdout",
     "output_type": "stream",
     "text": [
      "Model: \"sequential_4\"\n",
      "_________________________________________________________________\n",
      "Layer (type)                 Output Shape              Param #   \n",
      "=================================================================\n",
      "embedding_4 (Embedding)      (None, None, 16)          160000    \n",
      "_________________________________________________________________\n",
      "lstm_4 (LSTM)                (None, None, 128)         74240     \n",
      "_________________________________________________________________\n",
      "lstm_5 (LSTM)                (None, 128)               131584    \n",
      "_________________________________________________________________\n",
      "dense_8 (Dense)              (None, 64)                8256      \n",
      "_________________________________________________________________\n",
      "dense_9 (Dense)              (None, 1)                 65        \n",
      "=================================================================\n",
      "Total params: 374,145\n",
      "Trainable params: 374,145\n",
      "Non-trainable params: 0\n",
      "_________________________________________________________________\n"
     ]
    }
   ],
   "source": [
    "# 성범\n",
    "vocab_size = 10000    # 어휘 사전의 크기입니다(10,000개의 단어)\n",
    "word_vector_dim = 16  # 워드 벡터의 차원 수 (변경 가능한 하이퍼파라미터)\n",
    "\n",
    "# 모델 설계\n",
    "model = tf.keras.Sequential([\n",
    "    # Embedding 레이어: 입력 시퀀스를 워드 벡터로 변환\n",
    "    tf.keras.layers.Embedding(input_dim=vocab_size, output_dim=word_vector_dim, input_length=None),\n",
    "    \n",
    "    # 첫 번째 LSTM 레이어\n",
    "    tf.keras.layers.LSTM(128, return_sequences=True),\n",
    "    \n",
    "    # 두 번째 LSTM 레이어\n",
    "    tf.keras.layers.LSTM(128, return_sequences=False),\n",
    "    \n",
    "    # Dense 레이어: 뉴런 수 16, ReLU 활성화 함수\n",
    "    tf.keras.layers.Dense(64, activation='relu'),\n",
    "    \n",
    "    # 출력 레이어: 뉴런 수 1, 시그모이드 활성화 함수 (이진 감성 분석)\n",
    "    tf.keras.layers.Dense(1, activation='sigmoid')\n",
    "])\n",
    "\n",
    "\n",
    "\n",
    "model.summary()"
   ]
  },
  {
   "cell_type": "code",
   "execution_count": 90,
   "id": "00032dc3",
   "metadata": {},
   "outputs": [
    {
     "data": {
      "text/plain": [
       "array([[   0,    0,    0, ...,   20,   33,  748],\n",
       "       [   0,    0,    0, ...,   15,   44,  391],\n",
       "       [   0,    0,    0, ...,   24,  205,    3],\n",
       "       ...,\n",
       "       [   0,    0,    0, ..., 2710,    6,   18],\n",
       "       [   0,    0,    0, ...,   60,  395, 8572],\n",
       "       [   0,    0,    0, ...,   88, 2740,    5]], dtype=int32)"
      ]
     },
     "execution_count": 90,
     "metadata": {},
     "output_type": "execute_result"
    }
   ],
   "source": [
    "X_train"
   ]
  },
  {
   "cell_type": "code",
   "execution_count": 91,
   "id": "ac9855f7",
   "metadata": {},
   "outputs": [
    {
     "name": "stdout",
     "output_type": "stream",
     "text": [
      "(136182, 41)\n",
      "(136182,)\n"
     ]
    }
   ],
   "source": [
    "# validation set 10000건 분리\n",
    "X_val = X_train[:10000]   \n",
    "y_val = y_train[:10000]\n",
    "\n",
    "# validation set을 제외한 나머지 15000건\n",
    "partial_X_train = X_train[10000:]  \n",
    "partial_y_train = y_train[10000:]\n",
    "\n",
    "print(partial_X_train.shape)\n",
    "print(partial_y_train.shape)"
   ]
  },
  {
   "cell_type": "markdown",
   "id": "5cf262fe",
   "metadata": {},
   "source": [
    "#### 훈련 개시"
   ]
  },
  {
   "cell_type": "code",
   "execution_count": 92,
   "id": "d9a970f9",
   "metadata": {},
   "outputs": [
    {
     "name": "stdout",
     "output_type": "stream",
     "text": [
      "Epoch 1/20\n",
      "266/266 [==============================] - 8s 19ms/step - loss: 0.4248 - accuracy: 0.7955 - val_loss: 0.3448 - val_accuracy: 0.8517\n",
      "Epoch 2/20\n",
      "266/266 [==============================] - 4s 17ms/step - loss: 0.3316 - accuracy: 0.8593 - val_loss: 0.3431 - val_accuracy: 0.8508\n",
      "Epoch 3/20\n",
      "266/266 [==============================] - 4s 17ms/step - loss: 0.3161 - accuracy: 0.8672 - val_loss: 0.3399 - val_accuracy: 0.8540\n",
      "Epoch 4/20\n",
      "266/266 [==============================] - 4s 17ms/step - loss: 0.2981 - accuracy: 0.8745 - val_loss: 0.3284 - val_accuracy: 0.8561\n",
      "Epoch 5/20\n",
      "266/266 [==============================] - 4s 17ms/step - loss: 0.2752 - accuracy: 0.8853 - val_loss: 0.3261 - val_accuracy: 0.8622\n",
      "Epoch 6/20\n",
      "266/266 [==============================] - 4s 17ms/step - loss: 0.2546 - accuracy: 0.8955 - val_loss: 0.3298 - val_accuracy: 0.8546\n",
      "Epoch 7/20\n",
      "266/266 [==============================] - 4s 16ms/step - loss: 0.2350 - accuracy: 0.9045 - val_loss: 0.3411 - val_accuracy: 0.8613\n",
      "Epoch 8/20\n",
      "266/266 [==============================] - 4s 16ms/step - loss: 0.2172 - accuracy: 0.9126 - val_loss: 0.3574 - val_accuracy: 0.8520\n",
      "Epoch 9/20\n",
      "266/266 [==============================] - 4s 16ms/step - loss: 0.2016 - accuracy: 0.9207 - val_loss: 0.3729 - val_accuracy: 0.8543\n",
      "Epoch 10/20\n",
      "266/266 [==============================] - 4s 16ms/step - loss: 0.1857 - accuracy: 0.9275 - val_loss: 0.3926 - val_accuracy: 0.8519\n",
      "Epoch 11/20\n",
      "266/266 [==============================] - 4s 16ms/step - loss: 0.1721 - accuracy: 0.9336 - val_loss: 0.4291 - val_accuracy: 0.8527\n",
      "Epoch 12/20\n",
      "266/266 [==============================] - 4s 16ms/step - loss: 0.1611 - accuracy: 0.9388 - val_loss: 0.4257 - val_accuracy: 0.8504\n",
      "Epoch 13/20\n",
      "266/266 [==============================] - 4s 16ms/step - loss: 0.1497 - accuracy: 0.9431 - val_loss: 0.4701 - val_accuracy: 0.8458\n",
      "Epoch 14/20\n",
      "266/266 [==============================] - 4s 16ms/step - loss: 0.1407 - accuracy: 0.9468 - val_loss: 0.5201 - val_accuracy: 0.8461\n",
      "Epoch 15/20\n",
      "266/266 [==============================] - 4s 16ms/step - loss: 0.1299 - accuracy: 0.9510 - val_loss: 0.5679 - val_accuracy: 0.8468\n",
      "Epoch 16/20\n",
      "266/266 [==============================] - 4s 16ms/step - loss: 0.1234 - accuracy: 0.9533 - val_loss: 0.5627 - val_accuracy: 0.8462\n",
      "Epoch 17/20\n",
      "266/266 [==============================] - 4s 16ms/step - loss: 0.1170 - accuracy: 0.9553 - val_loss: 0.5631 - val_accuracy: 0.8452\n",
      "Epoch 18/20\n",
      "266/266 [==============================] - 4s 16ms/step - loss: 0.1089 - accuracy: 0.9590 - val_loss: 0.6042 - val_accuracy: 0.8442\n",
      "Epoch 19/20\n",
      "266/266 [==============================] - 4s 16ms/step - loss: 0.1052 - accuracy: 0.9600 - val_loss: 0.6650 - val_accuracy: 0.8410\n",
      "Epoch 20/20\n",
      "266/266 [==============================] - 4s 16ms/step - loss: 0.0979 - accuracy: 0.9628 - val_loss: 0.7027 - val_accuracy: 0.8428\n"
     ]
    }
   ],
   "source": [
    "model.compile(optimizer='adam',\n",
    "              loss='binary_crossentropy',\n",
    "              metrics=['accuracy'])\n",
    "              \n",
    "epochs=20  # 몇 epoch를 훈련하면 좋을지 결과를 보면서 바꾸어 봅시다. \n",
    "\n",
    "history = model.fit(partial_X_train,\n",
    "                    partial_y_train,\n",
    "                    epochs=epochs,\n",
    "                    batch_size=512,\n",
    "                    validation_data=(X_val, y_val),\n",
    "                    verbose=1)"
   ]
  },
  {
   "cell_type": "code",
   "execution_count": 93,
   "id": "170d58ad",
   "metadata": {},
   "outputs": [
    {
     "name": "stdout",
     "output_type": "stream",
     "text": [
      "1537/1537 - 4s - loss: 0.7068 - accuracy: 0.8363\n",
      "[0.7067860960960388, 0.8363407254219055]\n"
     ]
    }
   ],
   "source": [
    "results = model.evaluate(X_test,  y_test, verbose=2)\n",
    "\n",
    "print(results)"
   ]
  },
  {
   "cell_type": "code",
   "execution_count": 58,
   "id": "3433c3f3",
   "metadata": {},
   "outputs": [
    {
     "name": "stdout",
     "output_type": "stream",
     "text": [
      "dict_keys(['loss', 'accuracy', 'val_loss', 'val_accuracy'])\n"
     ]
    },
    {
     "data": {
      "image/png": "[encoded data removed]",
      "text/plain": [
       "<Figure size 432x288 with 1 Axes>"
      ]
     },
     "metadata": {
      "needs_background": "light"
     },
     "output_type": "display_data"
    }
   ],
   "source": [
    "history_dict = history.history\n",
    "print(history_dict.keys())\n",
    "\n",
    "acc = history_dict['accuracy']\n",
    "val_acc = history_dict['val_accuracy']\n",
    "loss = history_dict['loss']\n",
    "val_loss = history_dict['val_loss']\n",
    "\n",
    "epochs = range(1, len(acc) + 1)\n",
    "\n",
    "# \"bo\"는 \"파란색 점\"입니다\n",
    "plt.plot(epochs, loss, 'bo', label='Training loss')\n",
    "# b는 \"파란 실선\"입니다\n",
    "plt.plot(epochs, val_loss, 'b', label='Validation loss')\n",
    "plt.title('Training and validation loss')\n",
    "plt.xlabel('Epochs')\n",
    "plt.ylabel('Loss')\n",
    "plt.legend()\n",
    "\n",
    "plt.show()"
   ]
  },
  {
   "cell_type": "code",
   "execution_count": 59,
   "id": "07cd930e",
   "metadata": {},
   "outputs": [
    {
     "data": {
      "image/png": "[encoded data removed]",
      "text/plain": [
       "<Figure size 432x288 with 1 Axes>"
      ]
     },
     "metadata": {
      "needs_background": "light"
     },
     "output_type": "display_data"
    }
   ],
   "source": [
    "plt.clf()   # 그림을 초기화합니다\n",
    "\n",
    "plt.plot(epochs, acc, 'bo', label='Training acc')\n",
    "plt.plot(epochs, val_acc, 'b', label='Validation acc')\n",
    "plt.title('Training and validation accuracy')\n",
    "plt.xlabel('Epochs')\n",
    "plt.ylabel('Accuracy')\n",
    "plt.legend()\n",
    "\n",
    "plt.show()"
   ]
  },
  {
   "cell_type": "markdown",
   "id": "c5cacaea",
   "metadata": {},
   "source": [
    "### 1-2 양방향 RNN"
   ]
  },
  {
   "cell_type": "code",
   "execution_count": 77,
   "id": "703e9907",
   "metadata": {},
   "outputs": [
    {
     "name": "stdout",
     "output_type": "stream",
     "text": [
      "Model: \"sequential_3\"\n",
      "_________________________________________________________________\n",
      "Layer (type)                 Output Shape              Param #   \n",
      "=================================================================\n",
      "embedding_3 (Embedding)      (None, None, 16)          160000    \n",
      "_________________________________________________________________\n",
      "bidirectional_2 (Bidirection (None, None, 256)         37120     \n",
      "_________________________________________________________________\n",
      "bidirectional_3 (Bidirection (None, 256)               98560     \n",
      "_________________________________________________________________\n",
      "dense_6 (Dense)              (None, 64)                16448     \n",
      "_________________________________________________________________\n",
      "dense_7 (Dense)              (None, 1)                 65        \n",
      "=================================================================\n",
      "Total params: 312,193\n",
      "Trainable params: 312,193\n",
      "Non-trainable params: 0\n",
      "_________________________________________________________________\n"
     ]
    }
   ],
   "source": [
    "model_birnn = tf.keras.Sequential([\n",
    "    # Embedding 레이어: 입력 시퀀스를 워드 벡터로 변환\n",
    "    tf.keras.layers.Embedding(input_dim=vocab_size, output_dim=word_vector_dim, input_length=None),\n",
    "    \n",
    "    \n",
    "    # 양방향 RNN 레이어\n",
    "    tf.keras.layers.Bidirectional(tf.keras.layers.SimpleRNN(128, return_sequences=True)),\n",
    "    \n",
    "    # 양방향 RNN 레이어 \n",
    "    tf.keras.layers.Bidirectional(tf.keras.layers.SimpleRNN(128)),\n",
    "    \n",
    "    # Dense 레이어: 뉴런 수 64, ReLU 활성화 함수\n",
    "    tf.keras.layers.Dense(64, activation='relu'),\n",
    "    \n",
    "    # 출력 레이어: 뉴런 수 1, 시그모이드 활성화 함수 (이진 감성 분석)\n",
    "    tf.keras.layers.Dense(1, activation='sigmoid')\n",
    "])\n",
    "\n",
    "# 모델 컴파일\n",
    "model_birnn.compile(optimizer='adam',\n",
    "              loss='binary_crossentropy',\n",
    "              metrics=['accuracy'])\n",
    "\n",
    "# 모델 요약 출력\n",
    "model_birnn.summary()"
   ]
  },
  {
   "cell_type": "code",
   "execution_count": 78,
   "id": "14e42038",
   "metadata": {},
   "outputs": [
    {
     "name": "stdout",
     "output_type": "stream",
     "text": [
      "Epoch 1/20\n",
      "266/266 [==============================] - 39s 136ms/step - loss: 0.4412 - accuracy: 0.7863 - val_loss: 0.3513 - val_accuracy: 0.8460\n",
      "Epoch 2/20\n",
      "266/266 [==============================] - 36s 134ms/step - loss: 0.3354 - accuracy: 0.8581 - val_loss: 0.3403 - val_accuracy: 0.8509\n",
      "Epoch 3/20\n",
      "266/266 [==============================] - 36s 136ms/step - loss: 0.3086 - accuracy: 0.8709 - val_loss: 0.3477 - val_accuracy: 0.8502\n",
      "Epoch 4/20\n",
      "266/266 [==============================] - 36s 135ms/step - loss: 0.2872 - accuracy: 0.8807 - val_loss: 0.3465 - val_accuracy: 0.8462\n",
      "Epoch 5/20\n",
      "266/266 [==============================] - 36s 135ms/step - loss: 0.2623 - accuracy: 0.8922 - val_loss: 0.3612 - val_accuracy: 0.8491\n",
      "Epoch 6/20\n",
      "266/266 [==============================] - 36s 134ms/step - loss: 0.2362 - accuracy: 0.9046 - val_loss: 0.3895 - val_accuracy: 0.8463\n",
      "Epoch 7/20\n",
      "266/266 [==============================] - 36s 136ms/step - loss: 0.2098 - accuracy: 0.9168 - val_loss: 0.4021 - val_accuracy: 0.8381\n",
      "Epoch 8/20\n",
      "266/266 [==============================] - 35s 133ms/step - loss: 0.1843 - accuracy: 0.9270 - val_loss: 0.4536 - val_accuracy: 0.8286\n",
      "Epoch 9/20\n",
      "266/266 [==============================] - 36s 134ms/step - loss: 0.1612 - accuracy: 0.9381 - val_loss: 0.4948 - val_accuracy: 0.8383\n",
      "Epoch 10/20\n",
      "266/266 [==============================] - 35s 131ms/step - loss: 0.1439 - accuracy: 0.9445 - val_loss: 0.4923 - val_accuracy: 0.8280\n",
      "Epoch 11/20\n",
      "266/266 [==============================] - 35s 132ms/step - loss: 0.1283 - accuracy: 0.9517 - val_loss: 0.5665 - val_accuracy: 0.8314\n",
      "Epoch 12/20\n",
      "266/266 [==============================] - 36s 134ms/step - loss: 0.1139 - accuracy: 0.9567 - val_loss: 0.5821 - val_accuracy: 0.8246\n",
      "Epoch 13/20\n",
      "266/266 [==============================] - 36s 134ms/step - loss: 0.1047 - accuracy: 0.9607 - val_loss: 0.6408 - val_accuracy: 0.8307\n",
      "Epoch 14/20\n",
      "266/266 [==============================] - 35s 133ms/step - loss: 0.1005 - accuracy: 0.9623 - val_loss: 0.6182 - val_accuracy: 0.8325\n",
      "Epoch 15/20\n",
      "266/266 [==============================] - 36s 135ms/step - loss: 0.1070 - accuracy: 0.9588 - val_loss: 0.6887 - val_accuracy: 0.8266\n",
      "Epoch 16/20\n",
      "266/266 [==============================] - 36s 135ms/step - loss: 0.0909 - accuracy: 0.9658 - val_loss: 0.7320 - val_accuracy: 0.8321\n",
      "Epoch 17/20\n",
      "266/266 [==============================] - 35s 133ms/step - loss: 0.0746 - accuracy: 0.9718 - val_loss: 0.7629 - val_accuracy: 0.8275\n",
      "Epoch 18/20\n",
      "266/266 [==============================] - 35s 133ms/step - loss: 0.0691 - accuracy: 0.9743 - val_loss: 0.8388 - val_accuracy: 0.8215\n",
      "Epoch 19/20\n",
      "266/266 [==============================] - 35s 133ms/step - loss: 0.0647 - accuracy: 0.9757 - val_loss: 0.8718 - val_accuracy: 0.8215\n",
      "Epoch 20/20\n",
      "266/266 [==============================] - 35s 133ms/step - loss: 0.0616 - accuracy: 0.9767 - val_loss: 0.8558 - val_accuracy: 0.8254\n"
     ]
    }
   ],
   "source": [
    "epochs=20  # 몇 epoch를 훈련하면 좋을지 결과를 보면서 바꾸어 봅시다. \n",
    "\n",
    "history_birnn = model_birnn.fit(partial_X_train,\n",
    "                    partial_y_train,\n",
    "                    epochs=epochs,\n",
    "                    batch_size=512,\n",
    "                    validation_data=(X_val, y_val),\n",
    "                    verbose=1)"
   ]
  },
  {
   "cell_type": "code",
   "execution_count": 83,
   "id": "3a5612a0",
   "metadata": {},
   "outputs": [
    {
     "name": "stdout",
     "output_type": "stream",
     "text": [
      "Model: \"sequential_3\"\n",
      "_________________________________________________________________\n",
      "Layer (type)                 Output Shape              Param #   \n",
      "=================================================================\n",
      "embedding_3 (Embedding)      (None, None, 16)          160000    \n",
      "_________________________________________________________________\n",
      "bidirectional_2 (Bidirection (None, None, 256)         37120     \n",
      "_________________________________________________________________\n",
      "bidirectional_3 (Bidirection (None, 256)               98560     \n",
      "_________________________________________________________________\n",
      "dense_6 (Dense)              (None, 64)                16448     \n",
      "_________________________________________________________________\n",
      "dense_7 (Dense)              (None, 1)                 65        \n",
      "=================================================================\n",
      "Total params: 312,193\n",
      "Trainable params: 312,193\n",
      "Non-trainable params: 0\n",
      "_________________________________________________________________\n"
     ]
    }
   ],
   "source": [
    "model_birnn.summary()"
   ]
  },
  {
   "cell_type": "code",
   "execution_count": 94,
   "id": "6ca97681",
   "metadata": {},
   "outputs": [
    {
     "name": "stdout",
     "output_type": "stream",
     "text": [
      "1537/1537 - 19s - loss: 0.8723 - accuracy: 0.8182\n",
      "[0.8722752928733826, 0.8182151317596436]\n"
     ]
    }
   ],
   "source": [
    "results_birnn = model_birnn.evaluate(X_test,  y_test, verbose=2)\n",
    "\n",
    "print(results_birnn)"
   ]
  },
  {
   "cell_type": "code",
   "execution_count": 81,
   "id": "4186edb5",
   "metadata": {},
   "outputs": [
    {
     "name": "stdout",
     "output_type": "stream",
     "text": [
      "dict_keys(['loss', 'accuracy', 'val_loss', 'val_accuracy'])\n"
     ]
    },
    {
     "data": {
      "image/png": "[encoded data removed]",
      "text/plain": [
       "<Figure size 432x288 with 1 Axes>"
      ]
     },
     "metadata": {
      "needs_background": "light"
     },
     "output_type": "display_data"
    }
   ],
   "source": [
    "history_birnn_dict = history_birnn.history\n",
    "print(history_dict.keys())\n",
    "\n",
    "\n",
    "\n",
    "acc_birnn = history_birnn_dict['accuracy']\n",
    "val_acc_birnn = history_birnn_dict['val_accuracy']\n",
    "loss_birnn = history_birnn_dict['loss']\n",
    "val_loss_birnn = history_birnn_dict['val_loss']\n",
    "\n",
    "epochs_birnn = range(1, len(acc_birnn) + 1)\n",
    "\n",
    "# \"bo\"는 \"파란색 점\"입니다\n",
    "plt.plot(epochs_birnn, loss_birnn, 'bo', label='Training loss')\n",
    "# b는 \"파란 실선\"입니다\n",
    "plt.plot(epochs, val_loss_birnn, 'b', label='Validation loss')\n",
    "plt.title('Training and validation loss')\n",
    "plt.xlabel('Epochs')\n",
    "plt.ylabel('Loss')\n",
    "plt.legend()\n",
    "\n",
    "plt.show()"
   ]
  },
  {
   "cell_type": "markdown",
   "id": "0c17ceb8",
   "metadata": {},
   "source": [
    "### 1.3 양방향 GRU"
   ]
  },
  {
   "cell_type": "markdown",
   "id": "e9d04db4",
   "metadata": {},
   "source": [
    "#### 모델 구성"
   ]
  },
  {
   "cell_type": "code",
   "execution_count": 95,
   "id": "a25e7c97",
   "metadata": {},
   "outputs": [
    {
     "name": "stdout",
     "output_type": "stream",
     "text": [
      "Model: \"sequential_5\"\n",
      "_________________________________________________________________\n",
      "Layer (type)                 Output Shape              Param #   \n",
      "=================================================================\n",
      "embedding_5 (Embedding)      (None, None, 16)          160000    \n",
      "_________________________________________________________________\n",
      "bidirectional_4 (Bidirection (None, None, 256)         112128    \n",
      "_________________________________________________________________\n",
      "bidirectional_5 (Bidirection (None, 256)               296448    \n",
      "_________________________________________________________________\n",
      "dense_10 (Dense)             (None, 64)                16448     \n",
      "_________________________________________________________________\n",
      "dense_11 (Dense)             (None, 1)                 65        \n",
      "=================================================================\n",
      "Total params: 585,089\n",
      "Trainable params: 585,089\n",
      "Non-trainable params: 0\n",
      "_________________________________________________________________\n"
     ]
    }
   ],
   "source": [
    "vocab_size = 10000  # 어휘 사전의 크기\n",
    "word_vector_dim = 16  # 워드 벡터의 차원 수\n",
    "\n",
    "# 모델 설계\n",
    "model_biGRU = tf.keras.Sequential([\n",
    "    # Embedding 레이어: 입력 시퀀스를 워드 벡터로 변환\n",
    "    tf.keras.layers.Embedding(input_dim=vocab_size, output_dim=word_vector_dim, input_length=None),\n",
    "    \n",
    "    # 양방향 GRU 레이어\n",
    "    tf.keras.layers.Bidirectional(tf.keras.layers.GRU(128, return_sequences=True)),\n",
    "    \n",
    "    # 추가적인 양방향 GRU 레이어 (필요한 경우)\n",
    "    tf.keras.layers.Bidirectional(tf.keras.layers.GRU(128)),\n",
    "    \n",
    "    # Dense 레이어: 뉴런 수 64, ReLU 활성화 함수\n",
    "    tf.keras.layers.Dense(64, activation='relu'),\n",
    "    \n",
    "    # 출력 레이어: 뉴런 수 1, 시그모이드 활성화 함수 (이진 감성 분석)\n",
    "    tf.keras.layers.Dense(1, activation='sigmoid')\n",
    "])\n",
    "\n",
    "# 모델 컴파일\n",
    "model_biGRU.compile(optimizer='adam',\n",
    "              loss='binary_crossentropy',\n",
    "              metrics=['accuracy'])\n",
    "\n",
    "# 모델 요약 출력\n",
    "model_biGRU.summary()"
   ]
  },
  {
   "cell_type": "code",
   "execution_count": 96,
   "id": "b665572f",
   "metadata": {},
   "outputs": [
    {
     "name": "stdout",
     "output_type": "stream",
     "text": [
      "Epoch 1/20\n",
      "266/266 - 14s - loss: 0.4155 - accuracy: 0.8038 - val_loss: 0.3596 - val_accuracy: 0.8428\n",
      "Epoch 2/20\n",
      "266/266 - 9s - loss: 0.3333 - accuracy: 0.8575 - val_loss: 0.3407 - val_accuracy: 0.8530\n",
      "Epoch 3/20\n",
      "266/266 - 9s - loss: 0.3112 - accuracy: 0.8688 - val_loss: 0.3309 - val_accuracy: 0.8564\n",
      "Epoch 4/20\n",
      "266/266 - 9s - loss: 0.2865 - accuracy: 0.8804 - val_loss: 0.3224 - val_accuracy: 0.8599\n",
      "Epoch 5/20\n",
      "266/266 - 9s - loss: 0.2614 - accuracy: 0.8921 - val_loss: 0.3249 - val_accuracy: 0.8586\n",
      "Epoch 6/20\n",
      "266/266 - 9s - loss: 0.2404 - accuracy: 0.9019 - val_loss: 0.3256 - val_accuracy: 0.8565\n",
      "Epoch 7/20\n",
      "266/266 - 9s - loss: 0.2213 - accuracy: 0.9115 - val_loss: 0.3441 - val_accuracy: 0.8568\n",
      "Epoch 8/20\n",
      "266/266 - 9s - loss: 0.2064 - accuracy: 0.9182 - val_loss: 0.3605 - val_accuracy: 0.8528\n",
      "Epoch 9/20\n",
      "266/266 - 9s - loss: 0.1912 - accuracy: 0.9256 - val_loss: 0.3962 - val_accuracy: 0.8553\n",
      "Epoch 10/20\n",
      "266/266 - 9s - loss: 0.1770 - accuracy: 0.9316 - val_loss: 0.4326 - val_accuracy: 0.8485\n",
      "Epoch 11/20\n",
      "266/266 - 9s - loss: 0.1635 - accuracy: 0.9372 - val_loss: 0.4451 - val_accuracy: 0.8469\n",
      "Epoch 12/20\n",
      "266/266 - 9s - loss: 0.1513 - accuracy: 0.9420 - val_loss: 0.4896 - val_accuracy: 0.8491\n",
      "Epoch 13/20\n",
      "266/266 - 9s - loss: 0.1396 - accuracy: 0.9467 - val_loss: 0.5239 - val_accuracy: 0.8425\n",
      "Epoch 14/20\n",
      "266/266 - 9s - loss: 0.1278 - accuracy: 0.9515 - val_loss: 0.5234 - val_accuracy: 0.8433\n",
      "Epoch 15/20\n",
      "266/266 - 9s - loss: 0.1191 - accuracy: 0.9545 - val_loss: 0.6225 - val_accuracy: 0.8449\n",
      "Epoch 16/20\n",
      "266/266 - 9s - loss: 0.1104 - accuracy: 0.9576 - val_loss: 0.6043 - val_accuracy: 0.8442\n",
      "Epoch 17/20\n",
      "266/266 - 9s - loss: 0.1040 - accuracy: 0.9597 - val_loss: 0.6776 - val_accuracy: 0.8407\n",
      "Epoch 18/20\n",
      "266/266 - 9s - loss: 0.0960 - accuracy: 0.9623 - val_loss: 0.7190 - val_accuracy: 0.8413\n",
      "Epoch 19/20\n",
      "266/266 - 9s - loss: 0.0915 - accuracy: 0.9641 - val_loss: 0.7901 - val_accuracy: 0.8414\n",
      "Epoch 20/20\n",
      "266/266 - 9s - loss: 0.0862 - accuracy: 0.9663 - val_loss: 0.7704 - val_accuracy: 0.8388\n"
     ]
    }
   ],
   "source": [
    "epochs=20  # 몇 epoch를 훈련하면 좋을지 결과를 보면서 바꾸어 봅시다. \n",
    "\n",
    "history_biGRU = model_biGRU.fit(partial_X_train,\n",
    "                    partial_y_train,\n",
    "                    epochs=epochs,\n",
    "                    batch_size=512,\n",
    "                    validation_data=(X_val, y_val),\n",
    "                    verbose=2)"
   ]
  },
  {
   "cell_type": "code",
   "execution_count": 97,
   "id": "70c4f2fe",
   "metadata": {},
   "outputs": [
    {
     "name": "stdout",
     "output_type": "stream",
     "text": [
      "1537/1537 - 6s - loss: 0.7844 - accuracy: 0.8364\n",
      "[0.7844418883323669, 0.8363610506057739]\n"
     ]
    }
   ],
   "source": [
    "results_biGRU = model_biGRU.evaluate(X_test,  y_test, verbose=2)\n",
    "\n",
    "print(results_biGRU)"
   ]
  },
  {
   "cell_type": "code",
   "execution_count": 98,
   "id": "2c1f703b",
   "metadata": {},
   "outputs": [
    {
     "name": "stdout",
     "output_type": "stream",
     "text": [
      "dict_keys(['loss', 'accuracy', 'val_loss', 'val_accuracy'])\n"
     ]
    },
    {
     "data": {
      "image/png": "[encoded data removed]",
      "text/plain": [
       "<Figure size 432x288 with 1 Axes>"
      ]
     },
     "metadata": {
      "needs_background": "light"
     },
     "output_type": "display_data"
    }
   ],
   "source": [
    "history_biGRU_dict = history_biGRU.history\n",
    "print(history_dict.keys())\n",
    "\n",
    "\n",
    "\n",
    "acc_biGRU = history_biGRU_dict['accuracy']\n",
    "val_acc_biGRU = history_biGRU_dict['val_accuracy']\n",
    "loss_biGRU = history_biGRU_dict['loss']\n",
    "val_loss_biGRU = history_biGRU_dict['val_loss']\n",
    "\n",
    "epochs_biGRU = range(1, len(acc_biGRU) + 1)\n",
    "\n",
    "# \"bo\"는 \"파란색 점\"입니다\n",
    "plt.plot(epochs_biGRU, loss_biGRU, 'bo', label='Training loss')\n",
    "# b는 \"파란 실선\"입니다\n",
    "plt.plot(epochs_biGRU, val_loss_biGRU, 'b', label='Validation loss')\n",
    "plt.title('Training and validation loss')\n",
    "plt.xlabel('Epochs')\n",
    "plt.ylabel('Loss')\n",
    "plt.legend()\n",
    "\n",
    "plt.show()"
   ]
  },
  {
   "cell_type": "code",
   "execution_count": 99,
   "id": "ff3c07af",
   "metadata": {},
   "outputs": [
    {
     "data": {
      "image/png": "[encoded data removed]",
      "text/plain": [
       "<Figure size 432x288 with 1 Axes>"
      ]
     },
     "metadata": {
      "needs_background": "light"
     },
     "output_type": "display_data"
    }
   ],
   "source": [
    "plt.clf()   # 그림을 초기화합니다\n",
    "\n",
    "plt.plot(epochs_biGRU, acc_biGRU, 'bo', label='Training acc')\n",
    "plt.plot(epochs_biGRU, val_acc_biGRU, 'b', label='Validation acc')\n",
    "plt.title('Training and validation accuracy')\n",
    "plt.xlabel('Epochs')\n",
    "plt.ylabel('Accuracy')\n",
    "plt.legend()\n",
    "\n",
    "plt.show()"
   ]
  },
  {
   "cell_type": "markdown",
   "id": "2c451ff1",
   "metadata": {},
   "source": [
    "# 학습된 임베딩 레이어 분석"
   ]
  },
  {
   "cell_type": "markdown",
   "id": "55162b3a",
   "metadata": {},
   "source": [
    "### 사전 훈련된 모델 불러오기"
   ]
  },
  {
   "cell_type": "code",
   "execution_count": 112,
   "id": "09b462ff",
   "metadata": {},
   "outputs": [],
   "source": [
    "import os\n",
    "from gensim.models.keyedvectors import Word2VecKeyedVectors\n",
    "\n",
    "# Word2Vec 모델 파일 경로 설정 (예시)\n",
    "word2vec_file_path = os.getenv('HOME') + '/data/word2vec_ko.model'\n",
    "\n",
    "# Word2Vec 모델 로드\n",
    "word_vectors = Word2VecKeyedVectors.load(word2vec_file_path)"
   ]
  },
  {
   "cell_type": "code",
   "execution_count": 122,
   "id": "76cf95da",
   "metadata": {},
   "outputs": [],
   "source": [
    "vocab_size = 10000  # 어휘 사전의 크기\n",
    "word_vector_dim = word_vectors.vector_size  # Word2Vec에서 가져온 벡터 크기\n",
    "\n",
    "# 단어 사전 생성\n",
    "word_to_index = {word: idx + 1 for idx, word in enumerate(word_vectors.wv.index_to_key)}\n",
    "word_to_index[\"<PAD>\"] = 0  # 패딩 토큰 추가\n",
    "\n",
    "# 초기화된 임베딩 행렬 생성 (모든 값이 0인 행렬로 초기화)\n",
    "embedding_matrix = np.zeros((len(word_to_index), word_vector_dim))\n",
    "\n",
    "# 임베딩 행렬에 Word2Vec 벡터 삽입\n",
    "for word, index in word_to_index.items():\n",
    "    if word in word_vectors.wv.key_to_index:  # key_to_index를 사용하여 단어가 존재하는지 확인\n",
    "        embedding_matrix[index] = word_vectors.wv[word]\n",
    "\n",
    "# Embedding 레이어 초기화\n",
    "embedding_layer = tf.keras.layers.Embedding(input_dim=len(word_to_index),\n",
    "                                            output_dim=word_vector_dim,\n",
    "                                            weights=[embedding_matrix],\n",
    "                                            trainable=False,  # 사전 학습된 임베딩을 고정\n",
    "                                            input_length=None)"
   ]
  },
  {
   "cell_type": "code",
   "execution_count": 129,
   "id": "e12aa76e",
   "metadata": {},
   "outputs": [
    {
     "name": "stdout",
     "output_type": "stream",
     "text": [
      "Model: \"sequential_8\"\n",
      "_________________________________________________________________\n",
      "Layer (type)                 Output Shape              Param #   \n",
      "=================================================================\n",
      "embedding_6 (Embedding)      (None, None, 100)         30296100  \n",
      "_________________________________________________________________\n",
      "bidirectional_10 (Bidirectio (None, None, 128)         84480     \n",
      "_________________________________________________________________\n",
      "dropout (Dropout)            (None, None, 128)         0         \n",
      "_________________________________________________________________\n",
      "bidirectional_11 (Bidirectio (None, 128)               98816     \n",
      "_________________________________________________________________\n",
      "dense_16 (Dense)             (None, 64)                8256      \n",
      "_________________________________________________________________\n",
      "dense_17 (Dense)             (None, 1)                 65        \n",
      "=================================================================\n",
      "Total params: 30,487,717\n",
      "Trainable params: 191,617\n",
      "Non-trainable params: 30,296,100\n",
      "_________________________________________________________________\n"
     ]
    }
   ],
   "source": [
    "model = tf.keras.Sequential([\n",
    "    embedding_layer,  # 사전 학습된 Word2Vec 임베딩을 사용하는 Embedding 레이어\n",
    "    tf.keras.layers.Bidirectional(tf.keras.layers.LSTM(64, return_sequences=True)),\n",
    "    tf.keras.layers.Dropout(0.5),\n",
    "    tf.keras.layers.Bidirectional(tf.keras.layers.LSTM(64)),\n",
    "    tf.keras.layers.Dense(64, activation='relu'),\n",
    "    tf.keras.layers.Dense(1, activation='sigmoid')  # 이진 분류용 출력 레이어\n",
    "])\n",
    "\n",
    "# 모델 컴파일\n",
    "model.compile(optimizer='adam',\n",
    "              loss='binary_crossentropy',\n",
    "              metrics=['accuracy'])\n",
    "\n",
    "# 모델 요약 출력\n",
    "model.summary()"
   ]
  },
  {
   "cell_type": "code",
   "execution_count": 130,
   "id": "865328f3",
   "metadata": {},
   "outputs": [
    {
     "name": "stdout",
     "output_type": "stream",
     "text": [
      "Epoch 1/20\n",
      "266/266 - 10s - loss: 0.4916 - accuracy: 0.7517 - val_loss: 0.4110 - val_accuracy: 0.8077\n",
      "Epoch 2/20\n",
      "266/266 - 5s - loss: 0.3984 - accuracy: 0.8140 - val_loss: 0.3782 - val_accuracy: 0.8268\n",
      "Epoch 3/20\n",
      "266/266 - 5s - loss: 0.3642 - accuracy: 0.8349 - val_loss: 0.3615 - val_accuracy: 0.8352\n",
      "Epoch 4/20\n",
      "266/266 - 5s - loss: 0.3420 - accuracy: 0.8464 - val_loss: 0.3620 - val_accuracy: 0.8414\n",
      "Epoch 5/20\n",
      "266/266 - 5s - loss: 0.3230 - accuracy: 0.8566 - val_loss: 0.3587 - val_accuracy: 0.8423\n",
      "Epoch 6/20\n",
      "266/266 - 5s - loss: 0.3067 - accuracy: 0.8659 - val_loss: 0.3627 - val_accuracy: 0.8404\n",
      "Epoch 7/20\n",
      "266/266 - 5s - loss: 0.2903 - accuracy: 0.8733 - val_loss: 0.3558 - val_accuracy: 0.8425\n",
      "Epoch 8/20\n",
      "266/266 - 5s - loss: 0.2769 - accuracy: 0.8812 - val_loss: 0.3796 - val_accuracy: 0.8413\n",
      "Epoch 9/20\n",
      "266/266 - 5s - loss: 0.2652 - accuracy: 0.8867 - val_loss: 0.3625 - val_accuracy: 0.8450\n",
      "Epoch 10/20\n",
      "266/266 - 5s - loss: 0.2525 - accuracy: 0.8931 - val_loss: 0.3741 - val_accuracy: 0.8414\n",
      "Epoch 11/20\n",
      "266/266 - 5s - loss: 0.2409 - accuracy: 0.8982 - val_loss: 0.3733 - val_accuracy: 0.8448\n",
      "Epoch 12/20\n",
      "266/266 - 5s - loss: 0.2316 - accuracy: 0.9028 - val_loss: 0.4051 - val_accuracy: 0.8432\n",
      "Epoch 13/20\n",
      "266/266 - 5s - loss: 0.2205 - accuracy: 0.9074 - val_loss: 0.4036 - val_accuracy: 0.8358\n",
      "Epoch 14/20\n",
      "266/266 - 5s - loss: 0.2112 - accuracy: 0.9122 - val_loss: 0.4277 - val_accuracy: 0.8355\n",
      "Epoch 15/20\n",
      "266/266 - 5s - loss: 0.2022 - accuracy: 0.9164 - val_loss: 0.4147 - val_accuracy: 0.8405\n",
      "Epoch 16/20\n",
      "266/266 - 5s - loss: 0.1923 - accuracy: 0.9212 - val_loss: 0.4382 - val_accuracy: 0.8375\n",
      "Epoch 17/20\n",
      "266/266 - 5s - loss: 0.1851 - accuracy: 0.9242 - val_loss: 0.4558 - val_accuracy: 0.8353\n",
      "Epoch 18/20\n",
      "266/266 - 5s - loss: 0.1764 - accuracy: 0.9286 - val_loss: 0.4937 - val_accuracy: 0.8313\n",
      "Epoch 19/20\n",
      "266/266 - 5s - loss: 0.1695 - accuracy: 0.9315 - val_loss: 0.4801 - val_accuracy: 0.8394\n",
      "Epoch 20/20\n",
      "266/266 - 5s - loss: 0.1620 - accuracy: 0.9349 - val_loss: 0.5037 - val_accuracy: 0.8362\n"
     ]
    }
   ],
   "source": [
    "history_word2vec = model.fit(partial_X_train,\n",
    "                    partial_y_train,\n",
    "                    epochs=epochs,\n",
    "                    batch_size=512,\n",
    "                    validation_data=(X_val, y_val),\n",
    "                    verbose=2)"
   ]
  },
  {
   "cell_type": "code",
   "execution_count": 131,
   "id": "6069716c",
   "metadata": {},
   "outputs": [
    {
     "name": "stdout",
     "output_type": "stream",
     "text": [
      "1537/1537 - 6s - loss: 0.5273 - accuracy: 0.8322\n",
      "[0.5272683501243591, 0.832190752029419]\n"
     ]
    }
   ],
   "source": [
    "results = model.evaluate(X_test,  y_test, verbose=2)\n",
    "\n",
    "print(results)"
   ]
  },
  {
   "cell_type": "markdown",
   "id": "d65703bb",
   "metadata": {},
   "source": [
    "## 회고\n",
    "뭔가 시간이 많은거 같으면서도 추석때 다까먹어서 다시 감을 잡는데 오래걸린거같다. 큰일났다 오늘 다시 공부해야겠다.\n",
    "\n",
    "성능이 계속 안나와서 계속 바꿔가며 하는데도 안되는거같아서 포기할뻔했다."
   ]
  },
  {
   "cell_type": "code",
   "execution_count": null,
   "id": "1efeef43",
   "metadata": {},
   "outputs": [],
   "source": []
  }
 ],
 "metadata": {
  "kernelspec": {
   "display_name": "Python 3 (ipykernel)",
   "language": "python",
   "name": "python3"
  },
  "language_info": {
   "codemirror_mode": {
    "name": "ipython",
    "version": 3
   },
   "file_extension": ".py",
   "mimetype": "text/x-python",
   "name": "python",
   "nbconvert_exporter": "python",
   "pygments_lexer": "ipython3",
   "version": "3.9.7"
  }
 },
 "nbformat": 4,
 "nbformat_minor": 5
}
