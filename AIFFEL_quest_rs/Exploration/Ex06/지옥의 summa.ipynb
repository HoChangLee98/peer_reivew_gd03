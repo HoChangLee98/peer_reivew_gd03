{
 "cells": [
  {
   "cell_type": "markdown",
   "id": "a88a8a3a",
   "metadata": {},
   "source": [
    "## 라이브러리 호출"
   ]
  },
  {
   "cell_type": "code",
   "execution_count": 99,
   "id": "96720501",
   "metadata": {},
   "outputs": [],
   "source": [
    "from importlib.metadata import version\n",
    "import nltk\n",
    "import tensorflow\n",
    "import summa\n",
    "import pandas as pd\n",
    "from bs4 import BeautifulSoup\n",
    "import urllib.request\n",
    "from nltk.corpus import stopwords\n",
    "import re\n",
    "import numpy as np\n",
    "from tensorflow.keras.preprocessing.text import Tokenizer \n",
    "from tensorflow.keras.preprocessing.sequence import pad_sequences\n",
    "\n",
    "\n",
    "from tensorflow.keras.layers import Input, LSTM, Embedding, Dense, Concatenate, TimeDistributed\n",
    "from tensorflow.keras.models import Model\n",
    "from tensorflow.keras.callbacks import EarlyStopping, ModelCheckpoint\n",
    "\n",
    "from summa.summarizer import summarize\n",
    "import requests"
   ]
  },
  {
   "cell_type": "code",
   "execution_count": 22,
   "id": "0d52020e",
   "metadata": {},
   "outputs": [
    {
     "name": "stderr",
     "output_type": "stream",
     "text": [
      "[nltk_data] Downloading package stopwords to /aiffel/nltk_data...\n",
      "[nltk_data]   Package stopwords is already up-to-date!\n"
     ]
    }
   ],
   "source": [
    "nltk.download('stopwords')\n",
    "stop_words = set(stopwords.words('english'))"
   ]
  },
  {
   "cell_type": "code",
   "execution_count": 24,
   "id": "be3c767f",
   "metadata": {},
   "outputs": [],
   "source": [
    "urllib.request.urlretrieve(\"https://raw.githubusercontent.com/sunnysai12345/News_Summary/master/news_summary_more.csv\", filename=\"news_summary_more.csv\")\n",
    "data = pd.read_csv('news_summary_more.csv', encoding='iso-8859-1')"
   ]
  },
  {
   "cell_type": "code",
   "execution_count": 25,
   "id": "05024377",
   "metadata": {},
   "outputs": [
    {
     "data": {
      "text/html": [
       "<div>\n",
       "<style scoped>\n",
       "    .dataframe tbody tr th:only-of-type {\n",
       "        vertical-align: middle;\n",
       "    }\n",
       "\n",
       "    .dataframe tbody tr th {\n",
       "        vertical-align: top;\n",
       "    }\n",
       "\n",
       "    .dataframe thead th {\n",
       "        text-align: right;\n",
       "    }\n",
       "</style>\n",
       "<table border=\"1\" class=\"dataframe\">\n",
       "  <thead>\n",
       "    <tr style=\"text-align: right;\">\n",
       "      <th></th>\n",
       "      <th>headlines</th>\n",
       "      <th>text</th>\n",
       "    </tr>\n",
       "  </thead>\n",
       "  <tbody>\n",
       "    <tr>\n",
       "      <th>95541</th>\n",
       "      <td>NASA planning moon-orbiting space station to e...</td>\n",
       "      <td>NASA is planning to build an astronaut-tended ...</td>\n",
       "    </tr>\n",
       "    <tr>\n",
       "      <th>34426</th>\n",
       "      <td>Every rapist should be hanged: Nirbhaya's mother</td>\n",
       "      <td>The mother of Nirbhaya, the 2012 Delhi gangrap...</td>\n",
       "    </tr>\n",
       "    <tr>\n",
       "      <th>28291</th>\n",
       "      <td>Goalkeeper goes to opponent's half to attack, ...</td>\n",
       "      <td>Germany goalkeeper Manuel Neuer conceded a goa...</td>\n",
       "    </tr>\n",
       "    <tr>\n",
       "      <th>87055</th>\n",
       "      <td>Southwest monsoon hits Kerala, North East</td>\n",
       "      <td>The Southwest monsoon hit Kerala and the North...</td>\n",
       "    </tr>\n",
       "    <tr>\n",
       "      <th>41882</th>\n",
       "      <td>UP Assembly passes anti-organised crime bill</td>\n",
       "      <td>The Uttar Pradesh Assembly on Tuesday passed t...</td>\n",
       "    </tr>\n",
       "    <tr>\n",
       "      <th>39047</th>\n",
       "      <td>I am depressed: Uncapped cricketer who won 4 a...</td>\n",
       "      <td>Kerala all-rounder Jalaj Saxena, who has won f...</td>\n",
       "    </tr>\n",
       "    <tr>\n",
       "      <th>26265</th>\n",
       "      <td>Croatian player had 102-degree fever ahead of ...</td>\n",
       "      <td>Croatian midfielder Ivan RakitiÃÂ has reveal...</td>\n",
       "    </tr>\n",
       "    <tr>\n",
       "      <th>34948</th>\n",
       "      <td>Is Hindu Terror your idea: BJP leader to Javed...</td>\n",
       "      <td>After lyricist Javed Akhtar slammed the NIA af...</td>\n",
       "    </tr>\n",
       "    <tr>\n",
       "      <th>10623</th>\n",
       "      <td>'Thugs of Hindostan' leaked online within hour...</td>\n",
       "      <td>Aamir Khan and Amitabh Bachchan starrer 'Thugs...</td>\n",
       "    </tr>\n",
       "    <tr>\n",
       "      <th>9730</th>\n",
       "      <td>China 5-star hotels' staff use same cloth to c...</td>\n",
       "      <td>A video has gone viral in China showing staff ...</td>\n",
       "    </tr>\n",
       "  </tbody>\n",
       "</table>\n",
       "</div>"
      ],
      "text/plain": [
       "                                               headlines  \\\n",
       "95541  NASA planning moon-orbiting space station to e...   \n",
       "34426   Every rapist should be hanged: Nirbhaya's mother   \n",
       "28291  Goalkeeper goes to opponent's half to attack, ...   \n",
       "87055          Southwest monsoon hits Kerala, North East   \n",
       "41882      UP Assembly passes anti-organised crime bill    \n",
       "39047  I am depressed: Uncapped cricketer who won 4 a...   \n",
       "26265  Croatian player had 102-degree fever ahead of ...   \n",
       "34948  Is Hindu Terror your idea: BJP leader to Javed...   \n",
       "10623  'Thugs of Hindostan' leaked online within hour...   \n",
       "9730   China 5-star hotels' staff use same cloth to c...   \n",
       "\n",
       "                                                    text  \n",
       "95541  NASA is planning to build an astronaut-tended ...  \n",
       "34426  The mother of Nirbhaya, the 2012 Delhi gangrap...  \n",
       "28291  Germany goalkeeper Manuel Neuer conceded a goa...  \n",
       "87055  The Southwest monsoon hit Kerala and the North...  \n",
       "41882  The Uttar Pradesh Assembly on Tuesday passed t...  \n",
       "39047  Kerala all-rounder Jalaj Saxena, who has won f...  \n",
       "26265  Croatian midfielder Ivan RakitiÃÂ has reveal...  \n",
       "34948  After lyricist Javed Akhtar slammed the NIA af...  \n",
       "10623  Aamir Khan and Amitabh Bachchan starrer 'Thugs...  \n",
       "9730   A video has gone viral in China showing staff ...  "
      ]
     },
     "execution_count": 25,
     "metadata": {},
     "output_type": "execute_result"
    }
   ],
   "source": [
    "data.sample(10)"
   ]
  },
  {
   "cell_type": "markdown",
   "id": "feff6fe3",
   "metadata": {},
   "source": [
    "## 데이터 전처리하기"
   ]
  },
  {
   "cell_type": "code",
   "execution_count": 26,
   "id": "6c8a4515",
   "metadata": {},
   "outputs": [
    {
     "name": "stdout",
     "output_type": "stream",
     "text": [
      "전체 샘플수 : 98360\n"
     ]
    }
   ],
   "source": [
    "data.drop_duplicates(subset = ['text'], inplace=True)\n",
    "print('전체 샘플수 :', (len(data)))"
   ]
  },
  {
   "cell_type": "code",
   "execution_count": 27,
   "id": "5cf4a093",
   "metadata": {},
   "outputs": [
    {
     "name": "stdout",
     "output_type": "stream",
     "text": [
      "headlines    0\n",
      "text         0\n",
      "dtype: int64\n"
     ]
    }
   ],
   "source": [
    "# null값 확인하기\n",
    "print(data.isnull().sum())"
   ]
  },
  {
   "cell_type": "markdown",
   "id": "893ae165",
   "metadata": {},
   "source": [
    "#### 불용어 처리하기"
   ]
  },
  {
   "cell_type": "code",
   "execution_count": 28,
   "id": "3025af8d",
   "metadata": {},
   "outputs": [],
   "source": [
    "contractions = {\"ain't\": \"is not\", \"aren't\": \"are not\",\"can't\": \"cannot\", \"'cause\": \"because\", \"could've\": \"could have\", \"couldn't\": \"could not\",\n",
    "                           \"didn't\": \"did not\",  \"doesn't\": \"does not\", \"don't\": \"do not\", \"hadn't\": \"had not\", \"hasn't\": \"has not\", \"haven't\": \"have not\",\n",
    "                           \"he'd\": \"he would\",\"he'll\": \"he will\", \"he's\": \"he is\", \"how'd\": \"how did\", \"how'd'y\": \"how do you\", \"how'll\": \"how will\", \"how's\": \"how is\",\n",
    "                           \"I'd\": \"I would\", \"I'd've\": \"I would have\", \"I'll\": \"I will\", \"I'll've\": \"I will have\",\"I'm\": \"I am\", \"I've\": \"I have\", \"i'd\": \"i would\",\n",
    "                           \"i'd've\": \"i would have\", \"i'll\": \"i will\",  \"i'll've\": \"i will have\",\"i'm\": \"i am\", \"i've\": \"i have\", \"isn't\": \"is not\", \"it'd\": \"it would\",\n",
    "                           \"it'd've\": \"it would have\", \"it'll\": \"it will\", \"it'll've\": \"it will have\",\"it's\": \"it is\", \"let's\": \"let us\", \"ma'am\": \"madam\",\n",
    "                           \"mayn't\": \"may not\", \"might've\": \"might have\",\"mightn't\": \"might not\",\"mightn't've\": \"might not have\", \"must've\": \"must have\",\n",
    "                           \"mustn't\": \"must not\", \"mustn't've\": \"must not have\", \"needn't\": \"need not\", \"needn't've\": \"need not have\",\"o'clock\": \"of the clock\",\n",
    "                           \"oughtn't\": \"ought not\", \"oughtn't've\": \"ought not have\", \"shan't\": \"shall not\", \"sha'n't\": \"shall not\", \"shan't've\": \"shall not have\",\n",
    "                           \"she'd\": \"she would\", \"she'd've\": \"she would have\", \"she'll\": \"she will\", \"she'll've\": \"she will have\", \"she's\": \"she is\",\n",
    "                           \"should've\": \"should have\", \"shouldn't\": \"should not\", \"shouldn't've\": \"should not have\", \"so've\": \"so have\",\"so's\": \"so as\",\n",
    "                           \"this's\": \"this is\",\"that'd\": \"that would\", \"that'd've\": \"that would have\", \"that's\": \"that is\", \"there'd\": \"there would\",\n",
    "                           \"there'd've\": \"there would have\", \"there's\": \"there is\", \"here's\": \"here is\",\"they'd\": \"they would\", \"they'd've\": \"they would have\",\n",
    "                           \"they'll\": \"they will\", \"they'll've\": \"they will have\", \"they're\": \"they are\", \"they've\": \"they have\", \"to've\": \"to have\",\n",
    "                           \"wasn't\": \"was not\", \"we'd\": \"we would\", \"we'd've\": \"we would have\", \"we'll\": \"we will\", \"we'll've\": \"we will have\", \"we're\": \"we are\",\n",
    "                           \"we've\": \"we have\", \"weren't\": \"were not\", \"what'll\": \"what will\", \"what'll've\": \"what will have\", \"what're\": \"what are\",\n",
    "                           \"what's\": \"what is\", \"what've\": \"what have\", \"when's\": \"when is\", \"when've\": \"when have\", \"where'd\": \"where did\", \"where's\": \"where is\",\n",
    "                           \"where've\": \"where have\", \"who'll\": \"who will\", \"who'll've\": \"who will have\", \"who's\": \"who is\", \"who've\": \"who have\",\n",
    "                           \"why's\": \"why is\", \"why've\": \"why have\", \"will've\": \"will have\", \"won't\": \"will not\", \"won't've\": \"will not have\",\n",
    "                           \"would've\": \"would have\", \"wouldn't\": \"would not\", \"wouldn't've\": \"would not have\", \"y'all\": \"you all\",\n",
    "                           \"y'all'd\": \"you all would\",\"y'all'd've\": \"you all would have\",\"y'all're\": \"you all are\",\"y'all've\": \"you all have\",\n",
    "                           \"you'd\": \"you would\", \"you'd've\": \"you would have\", \"you'll\": \"you will\", \"you'll've\": \"you will have\",\n",
    "                           \"you're\": \"you are\", \"you've\": \"you have\"}"
   ]
  },
  {
   "cell_type": "code",
   "execution_count": 29,
   "id": "7462c759",
   "metadata": {},
   "outputs": [
    {
     "name": "stdout",
     "output_type": "stream",
     "text": [
      "불용어 개수 : 179\n",
      "['i', 'me', 'my', 'myself', 'we', 'our', 'ours', 'ourselves', 'you', \"you're\", \"you've\", \"you'll\", \"you'd\", 'your', 'yours', 'yourself', 'yourselves', 'he', 'him', 'his', 'himself', 'she', \"she's\", 'her', 'hers', 'herself', 'it', \"it's\", 'its', 'itself', 'they', 'them', 'their', 'theirs', 'themselves', 'what', 'which', 'who', 'whom', 'this', 'that', \"that'll\", 'these', 'those', 'am', 'is', 'are', 'was', 'were', 'be', 'been', 'being', 'have', 'has', 'had', 'having', 'do', 'does', 'did', 'doing', 'a', 'an', 'the', 'and', 'but', 'if', 'or', 'because', 'as', 'until', 'while', 'of', 'at', 'by', 'for', 'with', 'about', 'against', 'between', 'into', 'through', 'during', 'before', 'after', 'above', 'below', 'to', 'from', 'up', 'down', 'in', 'out', 'on', 'off', 'over', 'under', 'again', 'further', 'then', 'once', 'here', 'there', 'when', 'where', 'why', 'how', 'all', 'any', 'both', 'each', 'few', 'more', 'most', 'other', 'some', 'such', 'no', 'nor', 'not', 'only', 'own', 'same', 'so', 'than', 'too', 'very', 's', 't', 'can', 'will', 'just', 'don', \"don't\", 'should', \"should've\", 'now', 'd', 'll', 'm', 'o', 're', 've', 'y', 'ain', 'aren', \"aren't\", 'couldn', \"couldn't\", 'didn', \"didn't\", 'doesn', \"doesn't\", 'hadn', \"hadn't\", 'hasn', \"hasn't\", 'haven', \"haven't\", 'isn', \"isn't\", 'ma', 'mightn', \"mightn't\", 'mustn', \"mustn't\", 'needn', \"needn't\", 'shan', \"shan't\", 'shouldn', \"shouldn't\", 'wasn', \"wasn't\", 'weren', \"weren't\", 'won', \"won't\", 'wouldn', \"wouldn't\"]\n"
     ]
    }
   ],
   "source": [
    "print('불용어 개수 :', len(stopwords.words('english') ))\n",
    "print(stopwords.words('english'))"
   ]
  },
  {
   "cell_type": "code",
   "execution_count": 30,
   "id": "f3abcc72",
   "metadata": {},
   "outputs": [],
   "source": [
    "# 데이터 전처리 함수\n",
    "def preprocess_sentence(sentence, remove_stopwords=True):\n",
    "    sentence = sentence.lower()  # 텍스트 소문자화\n",
    "    sentence = BeautifulSoup(sentence, \"lxml\").text  # <br />, <a href = ...> 등의 HTML 태그 제거\n",
    "    sentence = re.sub(r'\\([^)]*\\)', '', sentence)  # 괄호로 닫힌 문자열 (...) 제거\n",
    "    sentence = re.sub('\"', '', sentence)  # 쌍따옴표 \" 제거\n",
    "    sentence = ' '.join([contractions[t] if t in contractions else t for t in sentence.split()])  # 약어 정규화\n",
    "    sentence = re.sub(r\"'s\\b\", \"\", sentence)  # 소유격 제거\n",
    "    sentence = re.sub(\"[^a-zA-Z]\", \" \", sentence)  # 영어 외 문자(숫자, 특수문자 등) 공백으로 변환\n",
    "    sentence = re.sub('[m]{2,}', 'mm', sentence)  # m이 3개 이상이면 2개로 변경\n",
    "\n",
    "    # 불용어 제거 (Text)\n",
    "    if remove_stopwords:\n",
    "        tokens = ' '.join(word for word in sentence.split() if word not in stop_words and len(word) > 1)\n",
    "    # 불용어 미제거 (Summary)\n",
    "    else:\n",
    "        tokens = ' '.join(word for word in sentence.split() if len(word) > 1)\n",
    "    \n",
    "    return tokens"
   ]
  },
  {
   "cell_type": "code",
   "execution_count": null,
   "id": "b81b317a",
   "metadata": {},
   "outputs": [],
   "source": []
  },
  {
   "cell_type": "code",
   "execution_count": 31,
   "id": "13c55ef6",
   "metadata": {},
   "outputs": [],
   "source": [
    "# text 열에 전처리 함수 적용 (불용어 제거 포함)\n",
    "data['text'] = data['text'].apply(lambda x: preprocess_sentence(x, remove_stopwords=True))\n",
    "\n",
    "# headline 열에 전처리 함수 적용 (불용어 제거 미적용)\n",
    "data['headlines'] = data['headlines'].apply(lambda x: preprocess_sentence(x, remove_stopwords=False))"
   ]
  },
  {
   "cell_type": "code",
   "execution_count": 33,
   "id": "9079c1a9",
   "metadata": {},
   "outputs": [
    {
     "data": {
      "text/html": [
       "<div>\n",
       "<style scoped>\n",
       "    .dataframe tbody tr th:only-of-type {\n",
       "        vertical-align: middle;\n",
       "    }\n",
       "\n",
       "    .dataframe tbody tr th {\n",
       "        vertical-align: top;\n",
       "    }\n",
       "\n",
       "    .dataframe thead th {\n",
       "        text-align: right;\n",
       "    }\n",
       "</style>\n",
       "<table border=\"1\" class=\"dataframe\">\n",
       "  <thead>\n",
       "    <tr style=\"text-align: right;\">\n",
       "      <th></th>\n",
       "      <th>headlines</th>\n",
       "      <th>text</th>\n",
       "    </tr>\n",
       "  </thead>\n",
       "  <tbody>\n",
       "    <tr>\n",
       "      <th>46285</th>\n",
       "      <td>pm modi condoles actress sridevi untimely demise</td>\n",
       "      <td>pm narendra modi expressed grief untimely demi...</td>\n",
       "    </tr>\n",
       "    <tr>\n",
       "      <th>42850</th>\n",
       "      <td>investors sue facebook say it violated its own...</td>\n",
       "      <td>facebook sued investors claimed suffered losse...</td>\n",
       "    </tr>\n",
       "    <tr>\n",
       "      <th>83902</th>\n",
       "      <td>if you don like my govt don use our roads andh...</td>\n",
       "      <td>andhra pradesh cm chandrababu naidu thursday s...</td>\n",
       "    </tr>\n",
       "    <tr>\n",
       "      <th>81901</th>\n",
       "      <td>jyoti structures first to face bankruptcy unde...</td>\n",
       "      <td>power infrastructure company jyoti structures ...</td>\n",
       "    </tr>\n",
       "    <tr>\n",
       "      <th>82363</th>\n",
       "      <td>man drinks liquid nitrogen in bar gets hole in...</td>\n",
       "      <td>year old man mistakenly drank liquid nitrogen ...</td>\n",
       "    </tr>\n",
       "    <tr>\n",
       "      <th>31302</th>\n",
       "      <td>jio files complaint against airtel over apple ...</td>\n",
       "      <td>reliance jio filed complaint airtel alleging o...</td>\n",
       "    </tr>\n",
       "    <tr>\n",
       "      <th>60233</th>\n",
       "      <td>startup organises open day event at cv raman h...</td>\n",
       "      <td>nearly children gathered nobel laureate cv ram...</td>\n",
       "    </tr>\n",
       "    <tr>\n",
       "      <th>29743</th>\n",
       "      <td>deeply sorry not proud of this season kohli to...</td>\n",
       "      <td>rcb captain virat kohli took twitter apologise...</td>\n",
       "    </tr>\n",
       "    <tr>\n",
       "      <th>25273</th>\n",
       "      <td>comcast drops its billion bid for st century fox</td>\n",
       "      <td>us broadcasting giant comcast formally withdra...</td>\n",
       "    </tr>\n",
       "    <tr>\n",
       "      <th>33448</th>\n",
       "      <td>couple caught having sex chased naked by polic...</td>\n",
       "      <td>couple caught sex field salisbury uk chased na...</td>\n",
       "    </tr>\n",
       "  </tbody>\n",
       "</table>\n",
       "</div>"
      ],
      "text/plain": [
       "                                               headlines  \\\n",
       "46285   pm modi condoles actress sridevi untimely demise   \n",
       "42850  investors sue facebook say it violated its own...   \n",
       "83902  if you don like my govt don use our roads andh...   \n",
       "81901  jyoti structures first to face bankruptcy unde...   \n",
       "82363  man drinks liquid nitrogen in bar gets hole in...   \n",
       "31302  jio files complaint against airtel over apple ...   \n",
       "60233  startup organises open day event at cv raman h...   \n",
       "29743  deeply sorry not proud of this season kohli to...   \n",
       "25273   comcast drops its billion bid for st century fox   \n",
       "33448  couple caught having sex chased naked by polic...   \n",
       "\n",
       "                                                    text  \n",
       "46285  pm narendra modi expressed grief untimely demi...  \n",
       "42850  facebook sued investors claimed suffered losse...  \n",
       "83902  andhra pradesh cm chandrababu naidu thursday s...  \n",
       "81901  power infrastructure company jyoti structures ...  \n",
       "82363  year old man mistakenly drank liquid nitrogen ...  \n",
       "31302  reliance jio filed complaint airtel alleging o...  \n",
       "60233  nearly children gathered nobel laureate cv ram...  \n",
       "29743  rcb captain virat kohli took twitter apologise...  \n",
       "25273  us broadcasting giant comcast formally withdra...  \n",
       "33448  couple caught sex field salisbury uk chased na...  "
      ]
     },
     "execution_count": 33,
     "metadata": {},
     "output_type": "execute_result"
    }
   ],
   "source": [
    "data.sample(10)"
   ]
  },
  {
   "cell_type": "code",
   "execution_count": 36,
   "id": "1afc0312",
   "metadata": {},
   "outputs": [],
   "source": [
    "data.replace('', np.nan, inplace=True)"
   ]
  },
  {
   "cell_type": "code",
   "execution_count": 37,
   "id": "e6d28311",
   "metadata": {},
   "outputs": [
    {
     "data": {
      "text/plain": [
       "headlines    0\n",
       "text         0\n",
       "dtype: int64"
      ]
     },
     "execution_count": 37,
     "metadata": {},
     "output_type": "execute_result"
    }
   ],
   "source": [
    "data.isnull().sum()"
   ]
  },
  {
   "cell_type": "code",
   "execution_count": 38,
   "id": "96f445a2",
   "metadata": {},
   "outputs": [
    {
     "data": {
      "text/html": [
       "<div>\n",
       "<style scoped>\n",
       "    .dataframe tbody tr th:only-of-type {\n",
       "        vertical-align: middle;\n",
       "    }\n",
       "\n",
       "    .dataframe tbody tr th {\n",
       "        vertical-align: top;\n",
       "    }\n",
       "\n",
       "    .dataframe thead th {\n",
       "        text-align: right;\n",
       "    }\n",
       "</style>\n",
       "<table border=\"1\" class=\"dataframe\">\n",
       "  <thead>\n",
       "    <tr style=\"text-align: right;\">\n",
       "      <th></th>\n",
       "      <th>headlines</th>\n",
       "      <th>text</th>\n",
       "    </tr>\n",
       "  </thead>\n",
       "  <tbody>\n",
       "    <tr>\n",
       "      <th>0</th>\n",
       "      <td>upgrad learner switches to career in ml al wit...</td>\n",
       "      <td>saurav kant alumnus upgrad iiit pg program mac...</td>\n",
       "    </tr>\n",
       "    <tr>\n",
       "      <th>1</th>\n",
       "      <td>delhi techie wins free food from swiggy for on...</td>\n",
       "      <td>kunal shah credit card bill payment platform c...</td>\n",
       "    </tr>\n",
       "    <tr>\n",
       "      <th>2</th>\n",
       "      <td>new zealand end rohit sharma led india match w...</td>\n",
       "      <td>new zealand defeated india wickets fourth odi ...</td>\n",
       "    </tr>\n",
       "    <tr>\n",
       "      <th>3</th>\n",
       "      <td>aegon life iterm insurance plan helps customer...</td>\n",
       "      <td>aegon life iterm insurance plan customers enjo...</td>\n",
       "    </tr>\n",
       "    <tr>\n",
       "      <th>4</th>\n",
       "      <td>have known hirani for yrs what if metoo claims...</td>\n",
       "      <td>speaking sexual harassment allegations rajkuma...</td>\n",
       "    </tr>\n",
       "  </tbody>\n",
       "</table>\n",
       "</div>"
      ],
      "text/plain": [
       "                                           headlines  \\\n",
       "0  upgrad learner switches to career in ml al wit...   \n",
       "1  delhi techie wins free food from swiggy for on...   \n",
       "2  new zealand end rohit sharma led india match w...   \n",
       "3  aegon life iterm insurance plan helps customer...   \n",
       "4  have known hirani for yrs what if metoo claims...   \n",
       "\n",
       "                                                text  \n",
       "0  saurav kant alumnus upgrad iiit pg program mac...  \n",
       "1  kunal shah credit card bill payment platform c...  \n",
       "2  new zealand defeated india wickets fourth odi ...  \n",
       "3  aegon life iterm insurance plan customers enjo...  \n",
       "4  speaking sexual harassment allegations rajkuma...  "
      ]
     },
     "execution_count": 38,
     "metadata": {},
     "output_type": "execute_result"
    }
   ],
   "source": [
    "data.head()"
   ]
  },
  {
   "cell_type": "code",
   "execution_count": 41,
   "id": "3b17ac63",
   "metadata": {},
   "outputs": [
    {
     "name": "stdout",
     "output_type": "stream",
     "text": [
      "텍스트의 최소 길이 : 1\n",
      "텍스트의 최대 길이 : 60\n",
      "텍스트의 평균 길이 : 35.09968483123221\n",
      "헤드라인의 최소 길이 : 1\n",
      "헤드라인의 최대 길이 : 16\n",
      "헤드라인의 평균 길이 : 9.299532330215534\n"
     ]
    },
    {
     "data": {
      "image/png": "[encoded data removed]",
      "text/plain": [
       "<Figure size 432x288 with 2 Axes>"
      ]
     },
     "metadata": {
      "needs_background": "light"
     },
     "output_type": "display_data"
    },
    {
     "data": {
      "image/png": "[encoded data removed]",
      "text/plain": [
       "<Figure size 432x288 with 1 Axes>"
      ]
     },
     "metadata": {
      "needs_background": "light"
     },
     "output_type": "display_data"
    },
    {
     "data": {
      "image/png": "[encoded data removed]",
      "text/plain": [
       "<Figure size 432x288 with 1 Axes>"
      ]
     },
     "metadata": {
      "needs_background": "light"
     },
     "output_type": "display_data"
    }
   ],
   "source": [
    "import matplotlib.pyplot as plt\n",
    "\n",
    "text_len = [len(s.split()) for s in data['text']]\n",
    "summary_len = [len(s.split()) for s in data['headlines']]\n",
    "\n",
    "print('텍스트의 최소 길이 : {}'.format(np.min(text_len)))\n",
    "print('텍스트의 최대 길이 : {}'.format(np.max(text_len)))\n",
    "print('텍스트의 평균 길이 : {}'.format(np.mean(text_len)))\n",
    "print('헤드라인의 최소 길이 : {}'.format(np.min(summary_len)))\n",
    "print('헤드라인의 최대 길이 : {}'.format(np.max(summary_len)))\n",
    "print('헤드라인의 평균 길이 : {}'.format(np.mean(summary_len)))\n",
    "\n",
    "plt.subplot(1,2,1)\n",
    "plt.boxplot(text_len)\n",
    "plt.title('Text')\n",
    "plt.subplot(1,2,2)\n",
    "plt.boxplot(summary_len)\n",
    "plt.title('Summary')\n",
    "plt.tight_layout()\n",
    "plt.show()\n",
    "\n",
    "plt.title('Text')\n",
    "plt.hist(text_len, bins = 40)\n",
    "plt.xlabel('length of samples')\n",
    "plt.ylabel('number of samples')\n",
    "plt.show()\n",
    "\n",
    "plt.title('Summary')\n",
    "plt.hist(summary_len, bins = 40)\n",
    "plt.xlabel('length of samples')\n",
    "plt.ylabel('number of samples')\n",
    "plt.show()"
   ]
  },
  {
   "cell_type": "code",
   "execution_count": 42,
   "id": "5d84d25d",
   "metadata": {},
   "outputs": [],
   "source": [
    "text_max_len = 50\n",
    "headlines_max_len = 12"
   ]
  },
  {
   "cell_type": "code",
   "execution_count": 43,
   "id": "4a0cb619",
   "metadata": {},
   "outputs": [],
   "source": [
    "data = data[data.apply(lambda x: len(x['text'].split()) <= text_max_len and len(x['headlines'].split()) <= headlines_max_len, axis=1)]"
   ]
  },
  {
   "cell_type": "code",
   "execution_count": 44,
   "id": "ed3f4b51",
   "metadata": {},
   "outputs": [
    {
     "name": "stdout",
     "output_type": "stream",
     "text": [
      "전체 샘플수 : 97169\n"
     ]
    }
   ],
   "source": [
    "print('전체 샘플수 :', (len(data)))"
   ]
  },
  {
   "cell_type": "code",
   "execution_count": 64,
   "id": "25b2a186",
   "metadata": {},
   "outputs": [],
   "source": [
    "# 요약 데이터에는 시작 토큰과 종료 토큰을 추가한다.\n",
    "data['decoder_input'] = data['headlines'].apply(lambda x : 'sostoken '+ x)\n",
    "data['decoder_target'] = data['headlines'].apply(lambda x : x + ' eostoken')\n",
    "\n",
    "\n",
    "encoder_input = np.array(data['text']) # 인코더의 입력\n",
    "decoder_input = np.array(data['decoder_input']) # 디코더의 입력\n",
    "decoder_target = np.array(data['decoder_target']) # 디코더의 레이블"
   ]
  },
  {
   "cell_type": "code",
   "execution_count": 65,
   "id": "25d2875f",
   "metadata": {},
   "outputs": [
    {
     "name": "stdout",
     "output_type": "stream",
     "text": [
      "[15917 19048 39916 ... 62619 17031 29209]\n"
     ]
    }
   ],
   "source": [
    "indices = np.arange(encoder_input.shape[0])\n",
    "np.random.shuffle(indices)\n",
    "print(indices)"
   ]
  },
  {
   "cell_type": "code",
   "execution_count": 66,
   "id": "279a3002",
   "metadata": {},
   "outputs": [
    {
     "name": "stdout",
     "output_type": "stream",
     "text": [
      "=3\n"
     ]
    }
   ],
   "source": [
    "encoder_input = encoder_input[indices]\n",
    "decoder_input = decoder_input[indices]\n",
    "decoder_target = decoder_target[indices]\n",
    "print('=3')"
   ]
  },
  {
   "cell_type": "code",
   "execution_count": 67,
   "id": "91711024",
   "metadata": {},
   "outputs": [
    {
     "name": "stdout",
     "output_type": "stream",
     "text": [
      "테스트 데이터의 수 : 19433\n"
     ]
    }
   ],
   "source": [
    "n_of_val = int(len(encoder_input)*0.2)\n",
    "print('테스트 데이터의 수 :', n_of_val)"
   ]
  },
  {
   "cell_type": "code",
   "execution_count": 68,
   "id": "45dc5623",
   "metadata": {},
   "outputs": [
    {
     "name": "stdout",
     "output_type": "stream",
     "text": [
      "훈련 데이터의 개수 : 77736\n",
      "훈련 레이블의 개수 : 77736\n",
      "테스트 데이터의 개수 : 19433\n",
      "테스트 레이블의 개수 : 19433\n"
     ]
    }
   ],
   "source": [
    "encoder_input_train = encoder_input[:-n_of_val]\n",
    "decoder_input_train = decoder_input[:-n_of_val]\n",
    "decoder_target_train = decoder_target[:-n_of_val]\n",
    "\n",
    "encoder_input_test = encoder_input[-n_of_val:]\n",
    "decoder_input_test = decoder_input[-n_of_val:]\n",
    "decoder_target_test = decoder_target[-n_of_val:]\n",
    "\n",
    "print('훈련 데이터의 개수 :', len(encoder_input_train))\n",
    "print('훈련 레이블의 개수 :', len(decoder_input_train))\n",
    "print('테스트 데이터의 개수 :', len(encoder_input_test))\n",
    "print('테스트 레이블의 개수 :', len(decoder_input_test))"
   ]
  },
  {
   "cell_type": "markdown",
   "id": "5e8437b2",
   "metadata": {},
   "source": [
    "훈련데이터와 테스트 데이터의 개수를 잘 분리했다. "
   ]
  },
  {
   "cell_type": "markdown",
   "id": "4286cc6d",
   "metadata": {},
   "source": [
    "### 정수인코딩"
   ]
  },
  {
   "cell_type": "code",
   "execution_count": 69,
   "id": "d6556102",
   "metadata": {},
   "outputs": [
    {
     "name": "stdout",
     "output_type": "stream",
     "text": [
      "=3\n"
     ]
    }
   ],
   "source": [
    "src_tokenizer = Tokenizer() # 토크나이저 정의\n",
    "src_tokenizer.fit_on_texts(encoder_input_train) # 입력된 데이터로부터 단어 집합 생성\n",
    "print('=3')"
   ]
  },
  {
   "cell_type": "code",
   "execution_count": 70,
   "id": "e1c12cae",
   "metadata": {},
   "outputs": [
    {
     "name": "stdout",
     "output_type": "stream",
     "text": [
      "단어 집합(vocabulary)의 크기 : 69446\n",
      "등장 빈도가 6번 이하인 희귀 단어의 수: 47410\n",
      "단어 집합에서 희귀 단어를 제외시킬 경우의 단어 집합의 크기 22036\n",
      "단어 집합에서 희귀 단어의 비율: 68.2688707772946\n",
      "전체 등장 빈도에서 희귀 단어 등장 빈도 비율: 3.529219062444004\n"
     ]
    }
   ],
   "source": [
    "threshold = 7\n",
    "total_cnt = len(src_tokenizer.word_index) # 단어의 수\n",
    "rare_cnt = 0 # 등장 빈도수가 threshold보다 작은 단어의 개수를 카운트\n",
    "total_freq = 0 # 훈련 데이터의 전체 단어 빈도수 총 합\n",
    "rare_freq = 0 # 등장 빈도수가 threshold보다 작은 단어의 등장 빈도수의 총 합\n",
    "\n",
    "# 단어와 빈도수의 쌍(pair)을 key와 value로 받는다.\n",
    "for key, value in src_tokenizer.word_counts.items():\n",
    "    total_freq = total_freq + value\n",
    "\n",
    "    # 단어의 등장 빈도수가 threshold보다 작으면\n",
    "    if(value < threshold):\n",
    "        rare_cnt = rare_cnt + 1\n",
    "        rare_freq = rare_freq + value\n",
    "\n",
    "print('단어 집합(vocabulary)의 크기 :', total_cnt)\n",
    "print('등장 빈도가 %s번 이하인 희귀 단어의 수: %s'%(threshold - 1, rare_cnt))\n",
    "print('단어 집합에서 희귀 단어를 제외시킬 경우의 단어 집합의 크기 %s'%(total_cnt - rare_cnt))\n",
    "print(\"단어 집합에서 희귀 단어의 비율:\", (rare_cnt / total_cnt)*100)\n",
    "print(\"전체 등장 빈도에서 희귀 단어 등장 빈도 비율:\", (rare_freq / total_freq)*100)"
   ]
  },
  {
   "cell_type": "code",
   "execution_count": 71,
   "id": "df2d2608",
   "metadata": {},
   "outputs": [
    {
     "name": "stdout",
     "output_type": "stream",
     "text": [
      "=3\n"
     ]
    }
   ],
   "source": [
    "src_vocab = 8000\n",
    "src_tokenizer = Tokenizer(num_words=src_vocab) # 단어 집합의 크기를 8,000으로 제한\n",
    "src_tokenizer.fit_on_texts(encoder_input_train) # 단어 집합 재생성\n",
    "print('=3')"
   ]
  },
  {
   "cell_type": "code",
   "execution_count": 72,
   "id": "9207028b",
   "metadata": {},
   "outputs": [
    {
     "name": "stdout",
     "output_type": "stream",
     "text": [
      "[[353, 571, 636, 4187, 1301, 1250, 102, 3726, 40, 7, 323, 92, 629, 377, 66, 3065, 66, 348, 50, 6498, 4019, 149, 3745, 280, 92, 5782], [3893, 334, 59, 1, 30, 3562, 3028, 2, 7, 7007, 23, 1345, 915, 520, 2822, 667, 315, 509, 456, 3066, 6422, 124, 1087, 6746, 23, 1526, 317, 6746, 120, 315, 509, 1120, 4], [1518, 101, 2183, 1418, 5438, 198, 1342, 7848, 386, 4695, 667, 32, 493, 4696, 5439, 1418, 465, 985, 558, 558, 2776, 7214, 3542, 7307, 1, 121, 937]]\n"
     ]
    }
   ],
   "source": [
    "encoder_input_train = src_tokenizer.texts_to_sequences(encoder_input_train) \n",
    "encoder_input_test = src_tokenizer.texts_to_sequences(encoder_input_test)\n",
    "\n",
    "# 잘 진행되었는지 샘플 출력\n",
    "print(encoder_input_train[:3])"
   ]
  },
  {
   "cell_type": "code",
   "execution_count": 73,
   "id": "dc8e7d33",
   "metadata": {},
   "outputs": [
    {
     "name": "stdout",
     "output_type": "stream",
     "text": [
      "=3\n"
     ]
    }
   ],
   "source": [
    "tar_tokenizer = Tokenizer()\n",
    "tar_tokenizer.fit_on_texts(decoder_input_train)\n",
    "print('=3')"
   ]
  },
  {
   "cell_type": "code",
   "execution_count": 74,
   "id": "9b779cfb",
   "metadata": {},
   "outputs": [
    {
     "name": "stdout",
     "output_type": "stream",
     "text": [
      "단어 집합(vocabulary)의 크기 : 29993\n",
      "등장 빈도가 5번 이하인 희귀 단어의 수: 19596\n",
      "단어 집합에서 희귀 단어를 제외시킬 경우의 단어 집합의 크기 10397\n",
      "단어 집합에서 희귀 단어의 비율: 65.33524489047444\n",
      "전체 등장 빈도에서 희귀 단어 등장 빈도 비율: 4.700240169247795\n"
     ]
    }
   ],
   "source": [
    "threshold = 6\n",
    "total_cnt = len(tar_tokenizer.word_index) # 단어의 수\n",
    "rare_cnt = 0 # 등장 빈도수가 threshold보다 작은 단어의 개수를 카운트\n",
    "total_freq = 0 # 훈련 데이터의 전체 단어 빈도수 총 합\n",
    "rare_freq = 0 # 등장 빈도수가 threshold보다 작은 단어의 등장 빈도수의 총 합\n",
    "\n",
    "# 단어와 빈도수의 쌍(pair)을 key와 value로 받는다.\n",
    "for key, value in tar_tokenizer.word_counts.items():\n",
    "    total_freq = total_freq + value\n",
    "\n",
    "    # 단어의 등장 빈도수가 threshold보다 작으면\n",
    "    if(value < threshold):\n",
    "        rare_cnt = rare_cnt + 1\n",
    "        rare_freq = rare_freq + value\n",
    "\n",
    "print('단어 집합(vocabulary)의 크기 :', total_cnt)\n",
    "print('등장 빈도가 %s번 이하인 희귀 단어의 수: %s'%(threshold - 1, rare_cnt))\n",
    "print('단어 집합에서 희귀 단어를 제외시킬 경우의 단어 집합의 크기 %s'%(total_cnt - rare_cnt))\n",
    "print(\"단어 집합에서 희귀 단어의 비율:\", (rare_cnt / total_cnt)*100)\n",
    "print(\"전체 등장 빈도에서 희귀 단어 등장 빈도 비율:\", (rare_freq / total_freq)*100)"
   ]
  },
  {
   "cell_type": "code",
   "execution_count": 75,
   "id": "9518d535",
   "metadata": {},
   "outputs": [
    {
     "name": "stdout",
     "output_type": "stream",
     "text": [
      "input\n",
      "input  [[1, 353, 1231, 445, 5, 609, 70, 128], [1, 438, 24, 1030, 307, 1066, 1789, 6, 231, 1602], [1, 73, 452, 7, 133, 268], [1, 1878, 1819, 13, 84, 11, 21, 58], [1, 93, 217, 127, 405, 130, 4]]\n",
      "target\n",
      "decoder  [[353, 1231, 445, 5, 609, 70, 128, 2], [438, 24, 1030, 307, 1066, 1789, 6, 231, 1602, 2], [73, 452, 7, 133, 268, 2], [1878, 1819, 13, 84, 11, 21, 58, 2], [93, 217, 127, 405, 130, 4, 2]]\n"
     ]
    }
   ],
   "source": [
    "tar_vocab = 2000\n",
    "tar_tokenizer = Tokenizer(num_words=tar_vocab) \n",
    "tar_tokenizer.fit_on_texts(decoder_input_train)\n",
    "tar_tokenizer.fit_on_texts(decoder_target_train)\n",
    "\n",
    "# 텍스트 시퀀스를 정수 시퀀스로 변환\n",
    "decoder_input_train = tar_tokenizer.texts_to_sequences(decoder_input_train) \n",
    "decoder_target_train = tar_tokenizer.texts_to_sequences(decoder_target_train)\n",
    "decoder_input_test = tar_tokenizer.texts_to_sequences(decoder_input_test)\n",
    "decoder_target_test = tar_tokenizer.texts_to_sequences(decoder_target_test)\n",
    "\n",
    "# 잘 변환되었는지 확인\n",
    "print('input')\n",
    "print('input ',decoder_input_train[:5])\n",
    "print('target')\n",
    "print('decoder ',decoder_target_train[:5])"
   ]
  },
  {
   "cell_type": "code",
   "execution_count": 76,
   "id": "13940bd6",
   "metadata": {},
   "outputs": [
    {
     "name": "stdout",
     "output_type": "stream",
     "text": [
      "삭제할 훈련 데이터의 개수 : 11\n",
      "삭제할 테스트 데이터의 개수 : 6\n",
      "훈련 데이터의 개수 : 77725\n",
      "훈련 레이블의 개수 : 77725\n",
      "테스트 데이터의 개수 : 19427\n",
      "테스트 레이블의 개수 : 19427\n"
     ]
    }
   ],
   "source": [
    "drop_train = [index for index, sentence in enumerate(decoder_input_train) if len(sentence) == 1]\n",
    "drop_test = [index for index, sentence in enumerate(decoder_input_test) if len(sentence) == 1]\n",
    "\n",
    "print('삭제할 훈련 데이터의 개수 :', len(drop_train))\n",
    "print('삭제할 테스트 데이터의 개수 :', len(drop_test))\n",
    "\n",
    "encoder_input_train = [sentence for index, sentence in enumerate(encoder_input_train) if index not in drop_train]\n",
    "decoder_input_train = [sentence for index, sentence in enumerate(decoder_input_train) if index not in drop_train]\n",
    "decoder_target_train = [sentence for index, sentence in enumerate(decoder_target_train) if index not in drop_train]\n",
    "\n",
    "encoder_input_test = [sentence for index, sentence in enumerate(encoder_input_test) if index not in drop_test]\n",
    "decoder_input_test = [sentence for index, sentence in enumerate(decoder_input_test) if index not in drop_test]\n",
    "decoder_target_test = [sentence for index, sentence in enumerate(decoder_target_test) if index not in drop_test]\n",
    "\n",
    "print('훈련 데이터의 개수 :', len(encoder_input_train))\n",
    "print('훈련 레이블의 개수 :', len(decoder_input_train))\n",
    "print('테스트 데이터의 개수 :', len(encoder_input_test))\n",
    "print('테스트 레이블의 개수 :', len(decoder_input_test))"
   ]
  },
  {
   "cell_type": "code",
   "execution_count": 77,
   "id": "1c10a93d",
   "metadata": {},
   "outputs": [
    {
     "name": "stdout",
     "output_type": "stream",
     "text": [
      "=3\n"
     ]
    }
   ],
   "source": [
    "encoder_input_train = pad_sequences(encoder_input_train, maxlen=text_max_len, padding='pre')\n",
    "encoder_input_test = pad_sequences(encoder_input_test, maxlen=text_max_len, padding='pre')\n",
    "decoder_input_train = pad_sequences(decoder_input_train, maxlen=headlines_max_len, padding='pre')\n",
    "decoder_target_train = pad_sequences(decoder_target_train, maxlen=headlines_max_len, padding='pre')\n",
    "decoder_input_test = pad_sequences(decoder_input_test, maxlen=headlines_max_len, padding='pre')\n",
    "decoder_target_test = pad_sequences(decoder_target_test, maxlen=headlines_max_len, padding='pre')\n",
    "print('=3')"
   ]
  },
  {
   "cell_type": "markdown",
   "id": "5b788b17",
   "metadata": {},
   "source": [
    "## Step 3. 어텐션 메커니즘 사용하기 (추상적 요약)\n",
    "일반적인 seq2seq보다는 어텐션 메커니즘을 사용한 seq2seq를 사용하는 것이 더 나은 성능을 얻을 수 있어요. 실습 내용을 참고하여 어텐션 메커니즘을 사용한 seq2seq를 설계해 보세요."
   ]
  },
  {
   "cell_type": "code",
   "execution_count": 114,
   "id": "af8cfaf7",
   "metadata": {},
   "outputs": [],
   "source": [
    "# 인코더 설계\n",
    "embedding_dim = 128\n",
    "hidden_size = 256\n",
    "\n",
    "encoder_inputs = Input(shape=(text_max_len,))\n",
    "\n",
    "# 인코더의 임베딩 층\n",
    "enc_emb = Embedding(src_vocab, embedding_dim)(encoder_inputs)\n",
    "\n",
    "# 인코더의 LSTM 1\n",
    "encoder_lstm1 = LSTM(hidden_size, return_sequences=True, return_state=True, dropout=0.4)\n",
    "encoder_output1, state_h1, state_c1 = encoder_lstm1(enc_emb)\n",
    "\n",
    "# 인코더의 LSTM 2\n",
    "encoder_lstm2 = LSTM(hidden_size, return_sequences=True, return_state=True, dropout=0.4)\n",
    "encoder_output2, state_h2, state_c2 = encoder_lstm2(encoder_output1)\n",
    "\n",
    "# 인코더의 LSTM 3\n",
    "encoder_lstm3 = LSTM(hidden_size, return_sequences=True, return_state=True, dropout=0.4)\n",
    "encoder_outputs, state_h, state_c = encoder_lstm3(encoder_output2)\n"
   ]
  },
  {
   "cell_type": "code",
   "execution_count": 115,
   "id": "118c2fe4",
   "metadata": {},
   "outputs": [],
   "source": [
    "# 디코더 설계\n",
    "decoder_inputs = Input(shape=(None,))\n",
    "\n",
    "# 디코더의 임베딩 층\n",
    "dec_emb_layer = Embedding(tar_vocab, embedding_dim)\n",
    "dec_emb = dec_emb_layer(decoder_inputs)\n",
    "\n",
    "# 디코더의 LSTM\n",
    "decoder_lstm = LSTM(hidden_size, return_sequences=True, return_state=True, dropout=0.4)\n",
    "decoder_outputs, _, _ = decoder_lstm(dec_emb, initial_state=[state_h, state_c])\n"
   ]
  },
  {
   "cell_type": "code",
   "execution_count": 116,
   "id": "c0e5d09e",
   "metadata": {},
   "outputs": [
    {
     "name": "stdout",
     "output_type": "stream",
     "text": [
      "Model: \"model_4\"\n",
      "__________________________________________________________________________________________________\n",
      "Layer (type)                    Output Shape         Param #     Connected to                     \n",
      "==================================================================================================\n",
      "input_7 (InputLayer)            [(None, 50)]         0                                            \n",
      "__________________________________________________________________________________________________\n",
      "embedding_3 (Embedding)         (None, 50, 128)      1024000     input_7[0][0]                    \n",
      "__________________________________________________________________________________________________\n",
      "lstm_7 (LSTM)                   [(None, 50, 256), (N 394240      embedding_3[0][0]                \n",
      "__________________________________________________________________________________________________\n",
      "input_8 (InputLayer)            [(None, None)]       0                                            \n",
      "__________________________________________________________________________________________________\n",
      "lstm_8 (LSTM)                   [(None, 50, 256), (N 525312      lstm_7[0][0]                     \n",
      "__________________________________________________________________________________________________\n",
      "embedding_4 (Embedding)         (None, None, 128)    256000      input_8[0][0]                    \n",
      "__________________________________________________________________________________________________\n",
      "lstm_9 (LSTM)                   [(None, 50, 256), (N 525312      lstm_8[0][0]                     \n",
      "__________________________________________________________________________________________________\n",
      "lstm_10 (LSTM)                  [(None, None, 256),  394240      embedding_4[0][0]                \n",
      "                                                                 lstm_9[0][1]                     \n",
      "                                                                 lstm_9[0][2]                     \n",
      "__________________________________________________________________________________________________\n",
      "dense_2 (Dense)                 (None, None, 2000)   514000      lstm_10[0][0]                    \n",
      "==================================================================================================\n",
      "Total params: 3,633,104\n",
      "Trainable params: 3,633,104\n",
      "Non-trainable params: 0\n",
      "__________________________________________________________________________________________________\n"
     ]
    }
   ],
   "source": [
    "# 디코더의 출력층\n",
    "decoder_softmax_layer = Dense(tar_vocab, activation='softmax')\n",
    "decoder_softmax_outputs = decoder_softmax_layer(decoder_outputs) \n",
    "\n",
    "# 모델 정의\n",
    "model = Model([encoder_inputs, decoder_inputs], decoder_softmax_outputs)\n",
    "model.summary()"
   ]
  },
  {
   "cell_type": "code",
   "execution_count": 117,
   "id": "e0d5ee78",
   "metadata": {},
   "outputs": [
    {
     "name": "stdout",
     "output_type": "stream",
     "text": [
      "Model: \"model_5\"\n",
      "__________________________________________________________________________________________________\n",
      "Layer (type)                    Output Shape         Param #     Connected to                     \n",
      "==================================================================================================\n",
      "input_7 (InputLayer)            [(None, 50)]         0                                            \n",
      "__________________________________________________________________________________________________\n",
      "embedding_3 (Embedding)         (None, 50, 128)      1024000     input_7[0][0]                    \n",
      "__________________________________________________________________________________________________\n",
      "lstm_7 (LSTM)                   [(None, 50, 256), (N 394240      embedding_3[0][0]                \n",
      "__________________________________________________________________________________________________\n",
      "input_8 (InputLayer)            [(None, None)]       0                                            \n",
      "__________________________________________________________________________________________________\n",
      "lstm_8 (LSTM)                   [(None, 50, 256), (N 525312      lstm_7[0][0]                     \n",
      "__________________________________________________________________________________________________\n",
      "embedding_4 (Embedding)         (None, None, 128)    256000      input_8[0][0]                    \n",
      "__________________________________________________________________________________________________\n",
      "lstm_9 (LSTM)                   [(None, 50, 256), (N 525312      lstm_8[0][0]                     \n",
      "__________________________________________________________________________________________________\n",
      "lstm_10 (LSTM)                  [(None, None, 256),  394240      embedding_4[0][0]                \n",
      "                                                                 lstm_9[0][1]                     \n",
      "                                                                 lstm_9[0][2]                     \n",
      "__________________________________________________________________________________________________\n",
      "attention_layer (AdditiveAttent (None, None, 256)    256         lstm_10[0][0]                    \n",
      "                                                                 lstm_9[0][0]                     \n",
      "__________________________________________________________________________________________________\n",
      "concat_layer (Concatenate)      (None, None, 512)    0           lstm_10[0][0]                    \n",
      "                                                                 attention_layer[0][0]            \n",
      "__________________________________________________________________________________________________\n",
      "dense_3 (Dense)                 (None, None, 2000)   1026000     concat_layer[0][0]               \n",
      "==================================================================================================\n",
      "Total params: 4,145,360\n",
      "Trainable params: 4,145,360\n",
      "Non-trainable params: 0\n",
      "__________________________________________________________________________________________________\n"
     ]
    }
   ],
   "source": [
    "from tensorflow.keras.layers import AdditiveAttention\n",
    "# 어텐션 층(어텐션 함수)\n",
    "attn_layer = AdditiveAttention(name='attention_layer')\n",
    "\n",
    "# 인코더와 디코더의 모든 time step의 hidden state를 어텐션 층에 전달하고 결과를 리턴\n",
    "attn_out = attn_layer([decoder_outputs, encoder_outputs])\n",
    "\n",
    "# 어텐션의 결과와 디코더의 hidden state들을 연결\n",
    "decoder_concat_input = Concatenate(axis=-1, name='concat_layer')([decoder_outputs, attn_out])\n",
    "\n",
    "# 디코더의 출력층\n",
    "decoder_softmax_layer = Dense(tar_vocab, activation='softmax')\n",
    "decoder_softmax_outputs = decoder_softmax_layer(decoder_concat_input)\n",
    "\n",
    "# 최종 모델 정의\n",
    "model = Model([encoder_inputs, decoder_inputs], decoder_softmax_outputs)\n",
    "model.summary()"
   ]
  },
  {
   "cell_type": "markdown",
   "id": "99a287da",
   "metadata": {},
   "source": [
    "### 모델 훈련하기"
   ]
  },
  {
   "cell_type": "code",
   "execution_count": 118,
   "id": "802b5344",
   "metadata": {},
   "outputs": [
    {
     "name": "stdout",
     "output_type": "stream",
     "text": [
      "Epoch 1/50\n",
      "304/304 [==============================] - 30s 83ms/step - loss: 3.8246 - val_loss: 3.5634\n",
      "Epoch 2/50\n",
      "304/304 [==============================] - 23s 76ms/step - loss: 3.5553 - val_loss: 3.4675\n",
      "Epoch 3/50\n",
      "304/304 [==============================] - 23s 75ms/step - loss: 3.4431 - val_loss: 3.3611\n",
      "Epoch 4/50\n",
      "304/304 [==============================] - 23s 76ms/step - loss: 3.3307 - val_loss: 3.2706\n",
      "Epoch 5/50\n",
      "304/304 [==============================] - 23s 76ms/step - loss: 3.2419 - val_loss: 3.1977\n",
      "Epoch 6/50\n",
      "304/304 [==============================] - 23s 76ms/step - loss: 3.1691 - val_loss: 3.1424\n",
      "Epoch 7/50\n",
      "304/304 [==============================] - 23s 75ms/step - loss: 3.1118 - val_loss: 3.1044\n",
      "Epoch 8/50\n",
      "304/304 [==============================] - 23s 76ms/step - loss: 3.0673 - val_loss: 3.0749\n",
      "Epoch 9/50\n",
      "304/304 [==============================] - 23s 76ms/step - loss: 3.0303 - val_loss: 3.0508\n",
      "Epoch 10/50\n",
      "304/304 [==============================] - 23s 76ms/step - loss: 2.9987 - val_loss: 3.0323\n",
      "Epoch 11/50\n",
      "304/304 [==============================] - 23s 76ms/step - loss: 2.9692 - val_loss: 3.0209\n",
      "Epoch 12/50\n",
      "304/304 [==============================] - 23s 76ms/step - loss: 2.9438 - val_loss: 3.0025\n",
      "Epoch 13/50\n",
      "304/304 [==============================] - 23s 76ms/step - loss: 2.9208 - val_loss: 2.9904\n",
      "Epoch 14/50\n",
      "304/304 [==============================] - 23s 76ms/step - loss: 2.9008 - val_loss: 2.9819\n",
      "Epoch 15/50\n",
      "304/304 [==============================] - 23s 76ms/step - loss: 2.8783 - val_loss: 2.9549\n",
      "Epoch 16/50\n",
      "304/304 [==============================] - 23s 76ms/step - loss: 2.8327 - val_loss: 2.9145\n",
      "Epoch 17/50\n",
      "304/304 [==============================] - 23s 76ms/step - loss: 2.7874 - val_loss: 2.8841\n",
      "Epoch 18/50\n",
      "304/304 [==============================] - 23s 76ms/step - loss: 2.7403 - val_loss: 2.8299\n",
      "Epoch 19/50\n",
      "304/304 [==============================] - 23s 76ms/step - loss: 2.6835 - val_loss: 2.7937\n",
      "Epoch 20/50\n",
      "304/304 [==============================] - 23s 76ms/step - loss: 2.6301 - val_loss: 2.7559\n",
      "Epoch 21/50\n",
      "304/304 [==============================] - 23s 76ms/step - loss: 2.5830 - val_loss: 2.7157\n",
      "Epoch 22/50\n",
      "304/304 [==============================] - 23s 76ms/step - loss: 2.5293 - val_loss: 2.6623\n",
      "Epoch 23/50\n",
      "304/304 [==============================] - 23s 76ms/step - loss: 2.4714 - val_loss: 2.6252\n",
      "Epoch 24/50\n",
      "304/304 [==============================] - 23s 76ms/step - loss: 2.4180 - val_loss: 2.5936\n",
      "Epoch 25/50\n",
      "304/304 [==============================] - 23s 76ms/step - loss: 2.3667 - val_loss: 2.5553\n",
      "Epoch 26/50\n",
      "304/304 [==============================] - 23s 76ms/step - loss: 2.3216 - val_loss: 2.5235\n",
      "Epoch 27/50\n",
      "304/304 [==============================] - 23s 76ms/step - loss: 2.2772 - val_loss: 2.5000\n",
      "Epoch 28/50\n",
      "304/304 [==============================] - 23s 76ms/step - loss: 2.2371 - val_loss: 2.4843\n",
      "Epoch 29/50\n",
      "304/304 [==============================] - 23s 76ms/step - loss: 2.1976 - val_loss: 2.4563\n",
      "Epoch 30/50\n",
      "304/304 [==============================] - 23s 76ms/step - loss: 2.1604 - val_loss: 2.4342\n",
      "Epoch 31/50\n",
      "304/304 [==============================] - 23s 76ms/step - loss: 2.1266 - val_loss: 2.4169\n",
      "Epoch 32/50\n",
      "304/304 [==============================] - 23s 76ms/step - loss: 2.0928 - val_loss: 2.4022\n",
      "Epoch 33/50\n",
      "304/304 [==============================] - 23s 76ms/step - loss: 2.0618 - val_loss: 2.3845\n",
      "Epoch 34/50\n",
      "304/304 [==============================] - 23s 76ms/step - loss: 2.0309 - val_loss: 2.3691\n",
      "Epoch 35/50\n",
      "304/304 [==============================] - 23s 76ms/step - loss: 2.0027 - val_loss: 2.3622\n",
      "Epoch 36/50\n",
      "304/304 [==============================] - 23s 76ms/step - loss: 1.9769 - val_loss: 2.3506\n",
      "Epoch 37/50\n",
      "304/304 [==============================] - 23s 76ms/step - loss: 1.9516 - val_loss: 2.3433\n",
      "Epoch 38/50\n",
      "304/304 [==============================] - 23s 76ms/step - loss: 1.9269 - val_loss: 2.3395\n",
      "Epoch 39/50\n",
      "304/304 [==============================] - 23s 76ms/step - loss: 1.9038 - val_loss: 2.3370\n",
      "Epoch 40/50\n",
      "304/304 [==============================] - 23s 76ms/step - loss: 1.8823 - val_loss: 2.3289\n",
      "Epoch 41/50\n",
      "304/304 [==============================] - 23s 76ms/step - loss: 1.8608 - val_loss: 2.3230\n",
      "Epoch 42/50\n",
      "304/304 [==============================] - 23s 76ms/step - loss: 1.8407 - val_loss: 2.3228\n",
      "Epoch 43/50\n",
      "304/304 [==============================] - 23s 76ms/step - loss: 1.8204 - val_loss: 2.3185\n",
      "Epoch 44/50\n",
      "304/304 [==============================] - 23s 76ms/step - loss: 1.8024 - val_loss: 2.3193\n",
      "Epoch 45/50\n",
      "304/304 [==============================] - 23s 76ms/step - loss: 1.7845 - val_loss: 2.3222\n",
      "Epoch 00045: early stopping\n"
     ]
    }
   ],
   "source": [
    "model.compile(optimizer='rmsprop', loss='sparse_categorical_crossentropy')\n",
    "es = EarlyStopping(monitor='val_loss', patience=2, verbose=1)\n",
    "history = model.fit(x=[encoder_input_train, decoder_input_train], y=decoder_target_train, \\\n",
    "          validation_data=([encoder_input_test, decoder_input_test], decoder_target_test), \\\n",
    "          batch_size=256, callbacks=[es], epochs=50)"
   ]
  },
  {
   "cell_type": "code",
   "execution_count": 119,
   "id": "434292e7",
   "metadata": {},
   "outputs": [
    {
     "data": {
      "image/png": "[encoded data removed]",
      "text/plain": [
       "<Figure size 432x288 with 1 Axes>"
      ]
     },
     "metadata": {
      "needs_background": "light"
     },
     "output_type": "display_data"
    }
   ],
   "source": [
    "plt.plot(history.history['loss'], label='train')\n",
    "plt.plot(history.history['val_loss'], label='test')\n",
    "plt.legend()\n",
    "plt.show()"
   ]
  },
  {
   "cell_type": "markdown",
   "id": "c18a97ba",
   "metadata": {},
   "source": [
    "### 인퍼런스 모델 구현하기"
   ]
  },
  {
   "cell_type": "code",
   "execution_count": 120,
   "id": "1923d481",
   "metadata": {},
   "outputs": [],
   "source": [
    "src_index_to_word = src_tokenizer.index_word # 원문 단어 집합에서 정수 -> 단어를 얻음\n",
    "tar_word_to_index = tar_tokenizer.word_index # 요약 단어 집합에서 단어 -> 정수를 얻음\n",
    "tar_index_to_word = tar_tokenizer.index_word # 요약 단어 집합에서 정수 -> 단어를 얻음"
   ]
  },
  {
   "cell_type": "code",
   "execution_count": 121,
   "id": "dbb45a0c",
   "metadata": {},
   "outputs": [],
   "source": [
    "# 인코더 설계\n",
    "encoder_model = Model(inputs=encoder_inputs, outputs=[encoder_outputs, state_h, state_c])\n",
    "\n",
    "# 이전 시점의 상태들을 저장하는 텐서\n",
    "decoder_state_input_h = Input(shape=(hidden_size,))\n",
    "decoder_state_input_c = Input(shape=(hidden_size,))\n",
    "\n",
    "dec_emb2 = dec_emb_layer(decoder_inputs)\n",
    "\n",
    "# 문장의 다음 단어를 예측하기 위해서 초기 상태(initial_state)를 이전 시점의 상태로 사용. 이는 뒤의 함수 decode_sequence()에 구현\n",
    "# 훈련 과정에서와 달리 LSTM의 리턴하는 은닉 상태와 셀 상태인 state_h와 state_c를 버리지 않음.\n",
    "decoder_outputs2, state_h2, state_c2 = decoder_lstm(dec_emb2, initial_state=[decoder_state_input_h, decoder_state_input_c])\n"
   ]
  },
  {
   "cell_type": "code",
   "execution_count": 122,
   "id": "51130f13",
   "metadata": {},
   "outputs": [],
   "source": [
    "# 어텐션 함수\n",
    "decoder_hidden_state_input = Input(shape=(text_max_len, hidden_size))\n",
    "attn_out_inf = attn_layer([decoder_outputs2, decoder_hidden_state_input])\n",
    "decoder_inf_concat = Concatenate(axis=-1, name='concat')([decoder_outputs2, attn_out_inf])\n",
    "\n",
    "# 디코더의 출력층\n",
    "decoder_outputs2 = decoder_softmax_layer(decoder_inf_concat) \n",
    "\n",
    "# 최종 디코더 모델\n",
    "decoder_model = Model(\n",
    "    [decoder_inputs] + [decoder_hidden_state_input,decoder_state_input_h, decoder_state_input_c],\n",
    "    [decoder_outputs2] + [state_h2, state_c2])\n"
   ]
  },
  {
   "cell_type": "code",
   "execution_count": 123,
   "id": "2474185a",
   "metadata": {},
   "outputs": [],
   "source": [
    "def decode_sequence(input_seq):\n",
    "    # 입력으로부터 인코더의 상태를 얻음\n",
    "    e_out, e_h, e_c = encoder_model.predict(input_seq)\n",
    "\n",
    "     # <SOS>에 해당하는 토큰 생성\n",
    "    target_seq = np.zeros((1,1))\n",
    "    target_seq[0, 0] = tar_word_to_index['sostoken']\n",
    "\n",
    "    stop_condition = False\n",
    "    decoded_sentence = ''\n",
    "    while not stop_condition: # stop_condition이 True가 될 때까지 루프 반복\n",
    "\n",
    "        output_tokens, h, c = decoder_model.predict([target_seq] + [e_out, e_h, e_c])\n",
    "        sampled_token_index = np.argmax(output_tokens[0, -1, :])\n",
    "        sampled_token = tar_index_to_word[sampled_token_index]\n",
    "\n",
    "        if (sampled_token!='eostoken'):\n",
    "            decoded_sentence += ' '+sampled_token\n",
    "\n",
    "        #  <eos>에 도달하거나 최대 길이를 넘으면 중단.\n",
    "        if (sampled_token == 'eostoken'  or len(decoded_sentence.split()) >= (headlines_max_len-1)):\n",
    "            stop_condition = True\n",
    "\n",
    "        # 길이가 1인 타겟 시퀀스를 업데이트\n",
    "        target_seq = np.zeros((1,1))\n",
    "        target_seq[0, 0] = sampled_token_index\n",
    "\n",
    "        # 상태를 업데이트 합니다.\n",
    "        e_h, e_c = h, c\n",
    "\n",
    "    return decoded_sentence"
   ]
  },
  {
   "cell_type": "code",
   "execution_count": 124,
   "id": "75595cff",
   "metadata": {},
   "outputs": [],
   "source": [
    "# 원문의 정수 시퀀스를 텍스트 시퀀스로 변환\n",
    "def seq2text(input_seq):\n",
    "    temp=''\n",
    "    for i in input_seq:\n",
    "        if (i!=0):\n",
    "            temp = temp + src_index_to_word[i]+' '\n",
    "    return temp\n",
    "\n",
    "def seq2summary(input_seq):\n",
    "    sostoken_idx = tar_word_to_index['sostoken']  # 예시로 설정한 sostoken의 인덱스 값\n",
    "    eostoken_idx = tar_word_to_index['eostoken']  # 예시로 설정한 eostoken의 인덱스 값\n",
    "    \n",
    "    temp = ''\n",
    "    for i in input_seq:\n",
    "        if (i != 0) and (i != sostoken_idx) and (i != eostoken_idx):\n",
    "            temp = temp + tar_index_to_word[i] + ' '\n",
    "    return temp.strip()\n"
   ]
  },
  {
   "cell_type": "code",
   "execution_count": 125,
   "id": "24f6a846",
   "metadata": {},
   "outputs": [
    {
     "name": "stdout",
     "output_type": "stream",
     "text": [
      "원문 : former defence minister manohar parrikar said government conducting trials introducing air soldiers indian special forces special forces operation exercise body uncomfortable air jacket comfortable parrikar said explaining need \n",
      "실제 요약 : army special forces to get ex defence minister\n",
      "예측 요약 :  air india to give soldiers to soldiers who soldiers to soldiers\n",
      "\n",
      "\n",
      "원문 : year old girl allegedly raped father delivered baby boy gujarat monday adding girl newborn healthy hospital staffer said medical team section normal delivery could reportedly newborn would sent girl complete education \n",
      "실제 요약 : year old girl raped by father baby in gujarat\n",
      "예측 요약 :  girl girl in class girl dies after being beaten by school\n",
      "\n",
      "\n",
      "원문 : union human resource development minister prakash javadekar announced addition seats residential schools primarily focused rural children academic session biggest ever expansion quality education rural students javadekar said announcement currently seats \n",
      "실제 요약 : government adds seats to\n",
      "예측 요약 :  no one can pass in schools in schools than age govt\n",
      "\n",
      "\n",
      "원문 : american singer katy perry friday became first ever person hit million followers microblogging site twitter hitting milestone tweeted thank twitter always giving opportunity voice year old singer joined twitter tweeted times \n",
      "실제 요약 : first person to hit million twitter\n",
      "예측 요약 :  year old becomes rd most player to hit million in years\n",
      "\n",
      "\n",
      "원문 : video shared jacqueline fernandez salman khan seen forcing kid dance tv show hug actress despite kid saying slamming user tweeted consent another wrote understand simple jacqueline wrote alongside video kids usually love boy \n",
      "실제 요약 : salman slammed for kid to her\n",
      "예측 요약 :  salman khan responds to shoot her for her on his dress\n",
      "\n",
      "\n",
      "원문 : cryptocurrency exchange celebrating zero fee trading bitcoin valentine zero fee trading last whole week end february th bitcoin cryptocurrency exchange also offers ethereum several within hour platform provides support \n",
      "실제 요약 : offers zero fee on bitcoin this\n",
      "예측 요약 :  bitcoin drops to cut in crypto price for first time in\n",
      "\n",
      "\n",
      "원문 : former boxing world champion floyd mayweather reportedly shot leg outside hotel boxing staying attack conducted gunman riding inside white suv believed directed towards mayweather police said undergoing treatment stable condition \n",
      "실제 요약 : shot outside hotel\n",
      "예측 요약 :  ex champ breaks down after shooting shot himself in us open\n",
      "\n",
      "\n",
      "원문 : mumbai railway vikas corporation submitted proposal construct elevated railway stations central western lines bid stations receive heavy elevated ticket booking offices foot leading platforms stations included mira road thane among others \n",
      "실제 요약 : mumbai railway stations to get\n",
      "예측 요약 :  mumbai railways to get ticket bags to travel for next time\n",
      "\n",
      "\n",
      "원문 : condoms maker ceo rakesh kapoor received total compensation million kapoor entitled compensation million give half back company recent performance second year row kapoor seen pay \n",
      "실제 요약 : ceo of maker gets mn as salary in\n",
      "예측 요약 :  ceo of pay mn to buy stock worth mn in us\n",
      "\n",
      "\n",
      "원문 : anil ambani led reliance group sent crore defamation notice mumbai congress president sanjay making false baseless allegations company alleged takeover debt reliance infrastructure integrated mumbai power business adani deal executed prime minister office bail ambani \n",
      "실제 요약 : anil ambani sends cr defamation notice to cong leader\n",
      "예측 요약 :  ed files plea against nirav modi for cr fraud in mp\n",
      "\n",
      "\n",
      "원문 : german court google via legal enough comply european union right forgotten right allows citizens request search engines remove links personal information google links requests remain visible online database court \n",
      "실제 요약 : google slammed by court over users right to be\n",
      "예측 요약 :  google to probe info on ad to eu court rules court\n",
      "\n",
      "\n",
      "원문 : justice thursday hearing petition challenging appointment ips officer rao cbi interim director saying rao home state attended daughter wedding cji ranjan gogoi justice ak justice third judge withdraw hearing case \n",
      "실제 요약 : went to rao daughter wedding judge cbi head case\n",
      "예측 요약 :  why did not know what is anil ambani on hc order\n",
      "\n",
      "\n",
      "원문 : year old female tourist found dead hotel tamil nadu chennai wednesday police drugs hotel room suspect woman died drug investigation launched incident police questioning woman boyfriend \n",
      "실제 요약 : tourist found dead in tn drug suspected\n",
      "예측 요약 :  man who killed in hotel room for not toilet at home\n",
      "\n",
      "\n",
      "원문 : new york gym chain launched naked classes require participants naked working without clothes provides number benefits including skin breathing release fitness wrote facebook post interestingly gym chain reportedly used celebrities like rihanna \n",
      "실제 요약 : new york launches naked\n",
      "예측 요약 :  artist lets people put on ad for ad to save her\n",
      "\n",
      "\n",
      "원문 : delta air lines staff accused national hockey league player ji cocaine flight bathroom attempting food allegedly asked crew member bring clarified meant cocaine brought coca cola later denied allegations called small incident \n",
      "실제 요약 : player does on flight tries to on food\n",
      "예측 요약 :  man who asked to pay lakh for not having toilet paper\n",
      "\n",
      "\n",
      "원문 : union minister smriti irani monday said press council india news association controlled government ascertain whether news fake comes congress leader ahmed patel asked would decide fake news guarantee rules misused honest reporters \n",
      "실제 요약 : irani to cong over steps against fake news\n",
      "예측 요약 :  fake news of fake news on fake news accounts in india\n",
      "\n",
      "\n",
      "원문 : flipkart co founder sachin bansal monday took twitter question source paytm founder ceo vijay shekhar sharma tweet sharma shared said india best software developers based delhi followed mumbai bengaluru however mention source data \n",
      "실제 요약 : flipkart sachin asks of paytm ceo tweet\n",
      "예측 요약 :  who is flipkart ceo asks sachin to quit flipkart for his\n",
      "\n",
      "\n",
      "원문 : uttar pradesh government spend crore building cow jails districts including meerut gorakhpur agra among others stating cows provide fresh milk prisoners state prison minister jai kumar singh said cow used growing organic vegetables jails \n",
      "실제 요약 : up govt to spend crore for building in\n",
      "예측 요약 :  up govt announces cr for those who cows to give cows\n",
      "\n",
      "\n",
      "원문 : head amazon studios roy price officially resigned post amazon show producer accused sexually harassing amazon studios ceo albert operations amazon searches price replacement company said tuesday amazon suspended price light allegations earlier week \n",
      "실제 요약 : amazon head price quits amid harassment scandal\n",
      "예측 요약 :  amazon senior vp wife quit board after he was not paid\n",
      "\n",
      "\n",
      "원문 : intelligence may decades research bias failure measure according scientists researchers suggest compared humans given similar training skills tested scientists point previous studies took account differences humans age history environment \n",
      "실제 요약 : bad for\n",
      "예측 요약 :  scientists find to find an humans in the past way in\n",
      "\n",
      "\n",
      "원문 : fugitive indian businessman vijay mallya request meet indian cricket captain virat kohli england reportedly denied indian government reports claim mallya made request time london court asked india show pictures arthur road jail mumbai expected extradition \n",
      "실제 요약 : indian govt stopped vijay mallya from meeting kohli report\n",
      "예측 요약 :  india manager vijay mallya names for info on virat kohli report\n",
      "\n",
      "\n",
      "원문 : bhopal bound jet airways flight mumbai airport forced return bay passengers started protesting non functional air system hour flight carrying passengers runway take passengers reportedly stood protest flight took technical team fixed issue \n",
      "실제 요약 : jet airways passengers protest over non\n",
      "예측 요약 :  jet airways flyers to take off seat mid air over diwali\n",
      "\n",
      "\n",
      "원문 : russian journalist critic president vladimir putin shot dead home ukraine capital tuesday year old fled ukraine fearing life criticising russian policy ukraine syria ukrainian prime minister accused russia responsible killing \n",
      "실제 요약 : anti putin russian journalist shot dead in\n",
      "예측 요약 :  putin to give putin in honour of putin on putin visit\n",
      "\n",
      "\n",
      "원문 : constable hyderabad murder attempt wrestling pistol hands trader friday constable reddy confronted trader attempting shoot shot also fired scuffle reddy managed avoid \n",
      "실제 요약 : gun out of hands\n",
      "예측 요약 :  yr old boy shoots himself with head injury in his face\n",
      "\n",
      "\n",
      "원문 : group us based scientists claimed sea called earliest species animal tree planet settle ongoing debate whether first animals studied genetic structures oldest believed animals based differences genetic data established first animal species \n",
      "실제 요약 : on earth were us study claims\n",
      "예측 요약 :  scientists find new of the brain of the new year old\n",
      "\n",
      "\n",
      "원문 : initial medical report year old woman gangraped bhopal last month said sex report later withdrawn show cause notice served two doctors error hospital authorities claimed mistake made report issued \n",
      "실제 요약 : st medical report in rape case called sex\n",
      "예측 요약 :  woman who gave sex to pay her age for not having\n",
      "\n",
      "\n",
      "원문 : month old baby died developing breathing problems onboard qatar airways hyderabad flight wednesday baby varma parents arrived hyderabad airport taken hospital declared brought dead thoughts affected family qatar airways said statement \n",
      "실제 요약 : month old baby dies after on flight\n",
      "예측 요약 :  baby dies after visa plane crashes in air india plane crash\n",
      "\n",
      "\n",
      "원문 : researcher successfully four android smartphones using printed life size human head iphone phone defended attack android phones displayed warnings facial recognition reality cybersecurity firm group research director matthew lewis said \n",
      "실제 요약 : successfully android phones with head\n",
      "예측 요약 :  android phone phone was not allowed to look in android founder\n",
      "\n",
      "\n",
      "원문 : users reported display samsung galaxy devices turns random issue screen turned either power button letting phone go sleep reports said issue even users devices reports added \n",
      "실제 요약 : users report samsung on\n",
      "예측 요약 :  users to iphone iphone may face users for the iphone claims\n",
      "\n",
      "\n",
      "원문 : three men england confessed running large scale cannabis factory underground nuclear constructed protect government nuclear attack police found cannabis plants capable producing million worth drugs annually powered illegally electricity worth \n",
      "실제 요약 : men nuclear into factory\n",
      "예측 요약 :  people in china plant was carrying japan nuclear plant in years\n",
      "\n",
      "\n",
      "원문 : twenty three time grand slam champion serena williams reaching us open quarter finals sunday said coming back pregnancy thought pre victory came day daughter turned one year old happen like instagram world real world takes body come back serena added \n",
      "실제 요약 : back from than thought serena\n",
      "예측 요약 :  serena was not allowed to share same time as us open\n",
      "\n",
      "\n",
      "원문 : pope francis saturday criticised naming us military biggest non nuclear explosive mother bombs saying word mother used reference weapon mother gives life one gives death call device mother happening pope added \n",
      "실제 요약 : mother should not be used to bomb pope\n",
      "예측 요약 :  pope asks us to give to wife to wife on syria\n",
      "\n",
      "\n",
      "원문 : rakhi sawant shared videos priest recovery injuries sustained wrestling bout tanushree dutta said faith jesus christ broken jesus disappointed either rakhi choose said teach church say things someone added \n",
      "실제 요약 : you have me or me tanushree\n",
      "예측 요약 :  my dad was not my dream but cannot do it salman\n",
      "\n",
      "\n",
      "원문 : indian spinner yuzvendra chahal six wicket haul england february last year bengaluru named icc performance year playing sixth leg spinner posted figures third best time best indian bowler history india match runs \n",
      "실제 요약 : vs england named of the year\n",
      "예측 요약 :  all wickets in straight series in sa series vs aus series\n",
      "\n",
      "\n",
      "원문 : around one million killed truck carrying crashed northern california united states driver escaped minor injuries authorities forced kill water determined could said valued million \n",
      "실제 요약 : million killed after truck crash in us\n",
      "예측 요약 :  man crashes into car crashes into truck carrying crashes into us\n",
      "\n",
      "\n",
      "원문 : israeli diamond billionaire detained israel police investigating allegations fraud money laundering arrest follows investigation allegations fake contracts drawn number property deals outside israel notably first detained last december allegations arranged bribes secure deal \n",
      "실제 요약 : israeli billionaire arrested in fraud\n",
      "예측 요약 :  israel arrested for fake info on fake deal in uk poll\n",
      "\n",
      "\n",
      "원문 : reacting tennis player serena williams confirming pregnancy former world number one andy tweeted gonna baby goat referred greatest time often used serena player weeks pregnant confirmed pregnancy wednesday posting picture baby snapchat \n",
      "실제 요약 : be baby ex world no on serena\n",
      "예측 요약 :  serena was serena face to marry me he first time serena\n",
      "\n",
      "\n",
      "원문 : prime minister narendra modi interview said reservation stay let doubts added constitution dreams still pm modi said everyone responsibility fulfil dreams reservation important tool achieve \n",
      "실제 요약 : to stay let there be no pm narendra modi\n",
      "예측 요약 :  those who said pm modi does not give them to mps\n",
      "\n",
      "\n",
      "원문 : congress vice president rahul gandhi slip tongue referred bengaluru newly launched indira inaugural speech every citizen karnataka siddaramaiah government must feel go vision indira said meals provided priced \n",
      "실제 요약 : rahul gandhi calls at\n",
      "예측 요약 :  rahul to get tax free for luru civic body in taka\n",
      "\n",
      "\n",
      "원문 : varun dhawan paid crore remo souza directorial per reports fee places league higher ranveer singh ranbir kapoor reports stated dance film also star katrina kaif shot reportedly among first bollywood films shot format \n",
      "실제 요약 : varun dhawan to be paid crore for reports\n",
      "예측 요약 :  varun dhawan to star in law in cr in sanju reports\n",
      "\n",
      "\n",
      "원문 : air india plans vacate space airports sell scrap lying cut costs rajiv bansal said airline also looking cut costs routes including gulf region comes air india crore debt government considering disinvestment airline \n",
      "실제 요약 : air india to space at to cut\n",
      "예측 요약 :  air india to sell its own airline for sale to be\n",
      "\n",
      "\n",
      "원문 : former indian navy officer kulbhushan jadhav mother called ki pakistan media outside country foreign office islamabad meeting son monday jadhav mother wife forced wait car journalists jadhav sentenced death pakistan military court \n",
      "실제 요약 : pakistan media calls jadhav mother ki\n",
      "예측 요약 :  jadhav posts pic with wife pak for his pak meet wife\n",
      "\n",
      "\n",
      "원문 : government said nearly operators suspended violating guidelines aadhaar till date operator crossing certain errors added earlier government revealed crore mobile numbers crore bank accounts linked aadhaar till december \n",
      "실제 요약 : aadhaar suspended till date govt\n",
      "예측 요약 :  govt to pay aadhaar for info on aadhaar for aadhaar fraud\n",
      "\n",
      "\n",
      "원문 : saudi king salman bin al saturday presented us president donald trump gold king medal kingdom top civilian honour king declared trump honoured enhance security stability region around world notably former us president barack obama also awarded honour \n",
      "실제 요약 : saudi king trump with top honour\n",
      "예측 요약 :  trump to get prize for first time in saudi king visit\n",
      "\n",
      "\n",
      "원문 : according reports sunil grover ali mishra feature together upcoming comedy show none shot kapil sharma show following kapil brawl sunil show reportedly also feature abhishek titled comedy company format similar kapil show \n",
      "실제 요약 : sunil to feature together in show report\n",
      "예측 요약 :  kapil sharma to play role in his upcoming film together reports\n",
      "\n",
      "\n",
      "원문 : short sellers betting tesla lost billion wednesday carmaker shares surged according partners came ceo elon musk told shareholders tesla may goal make model week june end may musk tweeted short burn century coming soon betting tesla \n",
      "실제 요약 : tesla short lose bn in day as stock\n",
      "예측 요약 :  value elon musk shares his biggest plan to buy tesla stock\n",
      "\n",
      "\n",
      "원문 : newton director amit said rajkummar rao win national award best actor year done brilliant job newton films also done lot good work year added rao national award best actor film shahid \n",
      "실제 요약 : rajkummar should have won national award director\n",
      "예측 요약 :  there is no one role in the best actor rajkummar rao\n",
      "\n",
      "\n",
      "원문 : kumar son bhushan kumar talking upcoming biopic father kumar story said story almost ready aamir khan entire process akshay kumar earlier part film left project due script ranbir kapoor reportedly star biopic akshay exit \n",
      "실제 요약 : aamir in of son\n",
      "예측 요약 :  my dad is not because he is not aamir on dad\n",
      "\n",
      "\n",
      "원문 : world health organisation tuesday elected first african director general promising stand rights poor said roads lead universal health coverage rest met replace chan step year term end june \n",
      "실제 요약 : who first ever african director general\n",
      "예측 요약 :  village st nation to contest next elections in st this year\n",
      "\n",
      "\n",
      "원문 : part tower auctioned crore three times original estimate auction paris tuesday year old feet height weighs kilograms includes steps connected top two floors tower cut lift \n",
      "실제 요약 : steps of tower sell for crore at auction in paris\n",
      "예측 요약 :  crore in one day auction for the first time in years\n",
      "\n",
      "\n"
     ]
    }
   ],
   "source": [
    "for i in range(50, 100):\n",
    "    print(\"원문 :\", seq2text(encoder_input_test[i]))\n",
    "    print(\"실제 요약 :\", seq2summary(decoder_input_test[i]))\n",
    "    print(\"예측 요약 :\", decode_sequence(encoder_input_test[i].reshape(1, text_max_len)))\n",
    "    print(\"\\n\")"
   ]
  },
  {
   "cell_type": "markdown",
   "id": "b260ffbe",
   "metadata": {},
   "source": [
    "### summarize 사용하기"
   ]
  },
  {
   "cell_type": "code",
   "execution_count": 146,
   "id": "3cb24c70",
   "metadata": {},
   "outputs": [
    {
     "name": "stdout",
     "output_type": "stream",
     "text": [
      "Summary:\n",
      "['Morpheus, Trinity, Neo, Apoc, Switch, Mouse and Cypher are jacked into the Matrix.', 'Trinity brings the helicopter down to the floor that Morpheus is on and Neo opens fire on the three Agents.']\n"
     ]
    }
   ],
   "source": [
    "print('Summary:')\n",
    "print(summarize(text, ratio=0.005, split=True))"
   ]
  },
  {
   "cell_type": "code",
   "execution_count": 163,
   "id": "fb234755",
   "metadata": {},
   "outputs": [],
   "source": [
    "data1 = pd.read_csv('news_summary_more.csv', encoding='iso-8859-1')"
   ]
  },
  {
   "cell_type": "code",
   "execution_count": 168,
   "id": "a2dbb329",
   "metadata": {},
   "outputs": [
    {
     "data": {
      "text/plain": [
       "'Prime Minister Narendra Modi on Wednesday said his government\\'s demonetisation decision made houses affordable for the aspiring youth.\\nHe added decisions like demonetisation and RERA have put a check on black money that used to be \"parked in the real estate sector\".'"
      ]
     },
     "execution_count": 168,
     "metadata": {},
     "output_type": "execute_result"
    }
   ],
   "source": [
    "data1_text = data1['text'].iloc[i]\n",
    "summarize(data1_text, ratio =0.9)"
   ]
  },
  {
   "cell_type": "code",
   "execution_count": 167,
   "id": "19e3e94b",
   "metadata": {},
   "outputs": [
    {
     "data": {
      "text/plain": [
       "\"upGrad's Online Power Learning has powered 3 lakh+ careers.\""
      ]
     },
     "execution_count": 167,
     "metadata": {},
     "output_type": "execute_result"
    }
   ],
   "source": [
    "summarize(data1['text'].iloc[0], words = 10)"
   ]
  },
  {
   "cell_type": "code",
   "execution_count": 175,
   "id": "af2ddc59",
   "metadata": {},
   "outputs": [
    {
     "name": "stdout",
     "output_type": "stream",
     "text": [
      "원문 [50]: former defence minister manohar parrikar said government conducting trials introducing air soldiers indian special forces special forces operation exercise body uncomfortable air jacket comfortable parrikar said explaining need \n",
      "실제 요약 [50]: army special forces to get ex defence minister\n",
      "모델 예측 요약 [50]:  air india to give soldiers to soldiers who soldiers to soldiers\n",
      "Summa 요약 [50]: Former Finance Minister Yashwant Sinha on Tuesday demanded a probe into the alleged diversion of loans worth Ã¢ÂÂ¹31,000 crore by Dewan Housing Finance (DHFL).\n",
      "\n",
      "====================================================================================================\n",
      "\n",
      "원문 [51]: year old girl allegedly raped father delivered baby boy gujarat monday adding girl newborn healthy hospital staffer said medical team section normal delivery could reportedly newborn would sent girl complete education \n",
      "실제 요약 [51]: year old girl raped by father baby in gujarat\n",
      "모델 예측 요약 [51]:  girl girl in class girl dies after being beaten by school\n",
      "Summa 요약 [51]: Boeing retained its position as the world's largest planemaker for the seventh straight year, delivering 806 aircraft in 2018.\n",
      "\n",
      "====================================================================================================\n",
      "\n",
      "원문 [52]: union human resource development minister prakash javadekar announced addition seats residential schools primarily focused rural children academic session biggest ever expansion quality education rural students javadekar said announcement currently seats \n",
      "실제 요약 [52]: government adds seats to\n",
      "모델 예측 요약 [52]:  no one can pass in schools in schools than age govt\n",
      "Summa 요약 [52]: Summa 요약이 생성되지 않았습니다.\n",
      "\n",
      "====================================================================================================\n",
      "\n",
      "원문 [53]: american singer katy perry friday became first ever person hit million followers microblogging site twitter hitting milestone tweeted thank twitter always giving opportunity voice year old singer joined twitter tweeted times \n",
      "실제 요약 [53]: first person to hit million twitter\n",
      "모델 예측 요약 [53]:  year old becomes rd most player to hit million in years\n",
      "Summa 요약 [53]: Summa 요약이 생성되지 않았습니다.\n",
      "\n",
      "====================================================================================================\n",
      "\n",
      "원문 [54]: video shared jacqueline fernandez salman khan seen forcing kid dance tv show hug actress despite kid saying slamming user tweeted consent another wrote understand simple jacqueline wrote alongside video kids usually love boy \n",
      "실제 요약 [54]: salman slammed for kid to her\n",
      "모델 예측 요약 [54]:  salman khan responds to shoot her for her on his dress\n",
      "Summa 요약 [54]: Filmmaker Pooja Bhatt, while talking about the presentation of women in her films, said, \"I can never look at a female body, even if it's naked, in a vulgar manner.\" \"Our audience can say...the women in my films are bold or sensual, but never ever vulgar,\" she added.\n",
      "\n",
      "====================================================================================================\n",
      "\n",
      "원문 [55]: cryptocurrency exchange celebrating zero fee trading bitcoin valentine zero fee trading last whole week end february th bitcoin cryptocurrency exchange also offers ethereum several within hour platform provides support \n",
      "실제 요약 [55]: offers zero fee on bitcoin this\n",
      "모델 예측 요약 [55]:  bitcoin drops to cut in crypto price for first time in\n",
      "Summa 요약 [55]: Actress Mishti, who has featured in 'Manikarnika: The Queen of Jhansi', has said the film's co-director Kangana Ranaut made false promises to the cast.\n",
      "\n",
      "====================================================================================================\n",
      "\n",
      "원문 [56]: former boxing world champion floyd mayweather reportedly shot leg outside hotel boxing staying attack conducted gunman riding inside white suv believed directed towards mayweather police said undergoing treatment stable condition \n",
      "실제 요약 [56]: shot outside hotel\n",
      "모델 예측 요약 [56]:  ex champ breaks down after shooting shot himself in us open\n",
      "Summa 요약 [56]: The high-powered committee led by PM Narendra Modi to select the next CBI Director will meet again on February 1, Congress leader Mallikarjun Kharge has said.\n",
      "\n",
      "====================================================================================================\n",
      "\n",
      "원문 [57]: mumbai railway vikas corporation submitted proposal construct elevated railway stations central western lines bid stations receive heavy elevated ticket booking offices foot leading platforms stations included mira road thane among others \n",
      "실제 요약 [57]: mumbai railway stations to get\n",
      "모델 예측 요약 [57]:  mumbai railways to get ticket bags to travel for next time\n",
      "Summa 요약 [57]: Nevada State Athletic Commission has banned MMA fighters Conor McGregor and Khabib Nurmagomedov for six months and nine months respectively over their roles in the mass brawl that occurred after their fight at UFC 229 last October.\n",
      "\n",
      "====================================================================================================\n",
      "\n",
      "원문 [58]: condoms maker ceo rakesh kapoor received total compensation million kapoor entitled compensation million give half back company recent performance second year row kapoor seen pay \n",
      "실제 요약 [58]: ceo of maker gets mn as salary in\n",
      "모델 예측 요약 [58]:  ceo of pay mn to buy stock worth mn in us\n",
      "Summa 요약 [58]: Pakistan captain Sarfaraz Ahmed, who has been banned for four matches over racist remarks, took an apparent dig at his critics by sharing a video of a child reciting 'log hai na' poem on Twitter.\n",
      "\n",
      "====================================================================================================\n",
      "\n",
      "원문 [59]: anil ambani led reliance group sent crore defamation notice mumbai congress president sanjay making false baseless allegations company alleged takeover debt reliance infrastructure integrated mumbai power business adani deal executed prime minister office bail ambani \n",
      "실제 요약 [59]: anil ambani sends cr defamation notice to cong leader\n",
      "모델 예측 요약 [59]:  ed files plea against nirav modi for cr fraud in mp\n",
      "Summa 요약 [59]: Sreesanth further said the bookie tried dragging him into spot-fixing but he didn't fall for it.\n",
      "\n",
      "====================================================================================================\n",
      "\n",
      "원문 [60]: german court google via legal enough comply european union right forgotten right allows citizens request search engines remove links personal information google links requests remain visible online database court \n",
      "실제 요약 [60]: google slammed by court over users right to be\n",
      "모델 예측 요약 [60]:  google to probe info on ad to eu court rules court\n",
      "Summa 요약 [60]: The Finance Ministry on Wednesday said the government will present an Interim Budget on February 1.\n",
      "\n",
      "====================================================================================================\n",
      "\n",
      "원문 [61]: justice thursday hearing petition challenging appointment ips officer rao cbi interim director saying rao home state attended daughter wedding cji ranjan gogoi justice ak justice third judge withdraw hearing case \n",
      "실제 요약 [61]: went to rao daughter wedding judge cbi head case\n",
      "모델 예측 요약 [61]:  why did not know what is anil ambani on hc order\n",
      "Summa 요약 [61]: US President Donald Trump on Wednesday called his country's top intelligence chiefs \"naive\" and \"wrong\" on Iran and added that they should perhaps \"go back to school\".\n",
      "\n",
      "====================================================================================================\n",
      "\n",
      "원문 [62]: year old female tourist found dead hotel tamil nadu chennai wednesday police drugs hotel room suspect woman died drug investigation launched incident police questioning woman boyfriend \n",
      "실제 요약 [62]: tourist found dead in tn drug suspected\n",
      "모델 예측 요약 [62]:  man who killed in hotel room for not toilet at home\n",
      "Summa 요약 [62]: A senior priest at the Vatican who handled cases of sexual abuse has quit after being accused of sexual abuse by a former nun.\n",
      "\n",
      "====================================================================================================\n",
      "\n",
      "원문 [63]: new york gym chain launched naked classes require participants naked working without clothes provides number benefits including skin breathing release fitness wrote facebook post interestingly gym chain reportedly used celebrities like rihanna \n",
      "실제 요약 [63]: new york launches naked\n",
      "모델 예측 요약 [63]:  artist lets people put on ad for ad to save her\n",
      "Summa 요약 [63]: A 22-year-old writer turned down a job offer, claiming she was bullied to the point of tears during her two-hour interview by a UK company's CEO.\n",
      "\n",
      "====================================================================================================\n",
      "\n",
      "원문 [64]: delta air lines staff accused national hockey league player ji cocaine flight bathroom attempting food allegedly asked crew member bring clarified meant cocaine brought coca cola later denied allegations called small incident \n",
      "실제 요약 [64]: player does on flight tries to on food\n",
      "모델 예측 요약 [64]:  man who asked to pay lakh for not having toilet paper\n",
      "Summa 요약 [64]: Noida Police has arrested Sector 20 station in-charge Manoj Pant and three journalists for allegedly extorting money from a call centre owner for removing his name from an FIR.\n",
      "\n",
      "====================================================================================================\n",
      "\n",
      "원문 [65]: union minister smriti irani monday said press council india news association controlled government ascertain whether news fake comes congress leader ahmed patel asked would decide fake news guarantee rules misused honest reporters \n",
      "실제 요약 [65]: irani to cong over steps against fake news\n",
      "모델 예측 요약 [65]:  fake news of fake news on fake news accounts in india\n",
      "Summa 요약 [65]: Airtel Africa, the holding company for Airtel's operations in 14 African countries, is preparing for an initial public offering.\n",
      "\n",
      "====================================================================================================\n",
      "\n",
      "원문 [66]: flipkart co founder sachin bansal monday took twitter question source paytm founder ceo vijay shekhar sharma tweet sharma shared said india best software developers based delhi followed mumbai bengaluru however mention source data \n",
      "실제 요약 [66]: flipkart sachin asks of paytm ceo tweet\n",
      "모델 예측 요약 [66]:  who is flipkart ceo asks sachin to quit flipkart for his\n",
      "Summa 요약 [66]: Actor Shreyas Talpade said that 'Golmaal' filmmaker Rohit Shetty is still working on the script for the fifth instalment of the 'Golmaal' film franchise.\n",
      "Once he's done with the...scripting, he'll take a call,Ã¢ÂÂ the actor added.\n",
      "\n",
      "====================================================================================================\n",
      "\n",
      "원문 [67]: uttar pradesh government spend crore building cow jails districts including meerut gorakhpur agra among others stating cows provide fresh milk prisoners state prison minister jai kumar singh said cow used growing organic vegetables jails \n",
      "실제 요약 [67]: up govt to spend crore for building in\n",
      "모델 예측 요약 [67]:  up govt announces cr for those who cows to give cows\n",
      "Summa 요약 [67]: A 72-year-old man named Terry Sanderson has sued 'Avengers' actress Gwyneth Paltrow for allegedly crashing into him while skiing, and is seeking $3.1 million (over Ã¢ÂÂ¹22 crore) in damages.\n",
      "\n",
      "====================================================================================================\n",
      "\n",
      "원문 [68]: head amazon studios roy price officially resigned post amazon show producer accused sexually harassing amazon studios ceo albert operations amazon searches price replacement company said tuesday amazon suspended price light allegations earlier week \n",
      "실제 요약 [68]: amazon head price quits amid harassment scandal\n",
      "모델 예측 요약 [68]:  amazon senior vp wife quit board after he was not paid\n",
      "Summa 요약 [68]: Yami Gautam was felicitated by Border Security Force (BSF) in Amritsar for her performance in 'Uri: The Surgical Strike'.\n",
      "\n",
      "====================================================================================================\n",
      "\n",
      "원문 [69]: intelligence may decades research bias failure measure according scientists researchers suggest compared humans given similar training skills tested scientists point previous studies took account differences humans age history environment \n",
      "실제 요약 [69]: bad for\n",
      "모델 예측 요약 [69]:  scientists find to find an humans in the past way in\n",
      "Summa 요약 [69]: Social media giant Facebook has hired privacy critic Nate Cardozo, formerly the top legal counsel for US privacy watchdog EFF, as a privacy policy manager for WhatsApp. Cardozo had called Facebook a \"faceless corporation\" whose business model depends on user's confusion and indifference about privacy, in October 2015.\n",
      "\n",
      "====================================================================================================\n",
      "\n",
      "원문 [70]: fugitive indian businessman vijay mallya request meet indian cricket captain virat kohli england reportedly denied indian government reports claim mallya made request time london court asked india show pictures arthur road jail mumbai expected extradition \n",
      "실제 요약 [70]: indian govt stopped vijay mallya from meeting kohli report\n",
      "모델 예측 요약 [70]:  india manager vijay mallya names for info on virat kohli report\n",
      "Summa 요약 [70]: \"WeÃ¢ÂÂve decided to go back to (iPhone prices) more commensurate with...local prices...a year ago,\" Cook added.\n",
      "\n",
      "====================================================================================================\n",
      "\n",
      "원문 [71]: bhopal bound jet airways flight mumbai airport forced return bay passengers started protesting non functional air system hour flight carrying passengers runway take passengers reportedly stood protest flight took technical team fixed issue \n",
      "실제 요약 [71]: jet airways passengers protest over non\n",
      "모델 예측 요약 [71]:  jet airways flyers to take off seat mid air over diwali\n",
      "Summa 요약 [71]: \"The majority of fatalities from shark bites is due to blood loss...shock from blood loss,\" a scientist said.\n",
      "\n",
      "====================================================================================================\n",
      "\n",
      "원문 [72]: russian journalist critic president vladimir putin shot dead home ukraine capital tuesday year old fled ukraine fearing life criticising russian policy ukraine syria ukrainian prime minister accused russia responsible killing \n",
      "실제 요약 [72]: anti putin russian journalist shot dead in\n",
      "모델 예측 요약 [72]:  putin to give putin in honour of putin on putin visit\n",
      "Summa 요약 [72]: BJP National Secretary Rahul Sinha on Wednesday asked the party workers in West Bengal to come armed with sticks to PM Narendra Modi's rally in the state on February 2.\n",
      "\n",
      "====================================================================================================\n",
      "\n",
      "원문 [73]: constable hyderabad murder attempt wrestling pistol hands trader friday constable reddy confronted trader attempting shoot shot also fired scuffle reddy managed avoid \n",
      "실제 요약 [73]: gun out of hands\n",
      "모델 예측 요약 [73]:  yr old boy shoots himself with head injury in his face\n",
      "Summa 요약 [73]: BJP President Amit Shah on Wednesday took a dig at the Opposition parties saying that the 'mahagathbandhan' for the Opposition is 4B - \"Bua-Bhatija-Bhai-Behen\".\n",
      "\n",
      "====================================================================================================\n",
      "\n",
      "원문 [74]: group us based scientists claimed sea called earliest species animal tree planet settle ongoing debate whether first animals studied genetic structures oldest believed animals based differences genetic data established first animal species \n",
      "실제 요약 [74]: on earth were us study claims\n",
      "모델 예측 요약 [74]:  scientists find new of the brain of the new year old\n",
      "Summa 요약 [74]: Volkswagen's sales, including its MAN and Scania heavy trucks and buses, rose 0.9% to 10.83 million in 2018, the company had said.\n",
      "\n",
      "====================================================================================================\n",
      "\n",
      "원문 [75]: initial medical report year old woman gangraped bhopal last month said sex report later withdrawn show cause notice served two doctors error hospital authorities claimed mistake made report issued \n",
      "실제 요약 [75]: st medical report in rape case called sex\n",
      "모델 예측 요약 [75]:  woman who gave sex to pay her age for not having\n",
      "Summa 요약 [75]: Ousted Nissan Chairman Carlos Ghosn has said his arrest over alleged financial misconduct was led by \"plot and treason\" by the Japanese carmaker's executives who opposed its deeper integration with Renault and Mitsubishi.\n",
      "\n",
      "====================================================================================================\n",
      "\n",
      "원문 [76]: month old baby died developing breathing problems onboard qatar airways hyderabad flight wednesday baby varma parents arrived hyderabad airport taken hospital declared brought dead thoughts affected family qatar airways said statement \n",
      "실제 요약 [76]: month old baby dies after on flight\n",
      "모델 예측 요약 [76]:  baby dies after visa plane crashes in air india plane crash\n",
      "Summa 요약 [76]: The government has cut down customs duty on import of parts and components for electric vehicles to 10-15%, down from the previous 15-30%.\n",
      "\n",
      "====================================================================================================\n",
      "\n",
      "원문 [77]: researcher successfully four android smartphones using printed life size human head iphone phone defended attack android phones displayed warnings facial recognition reality cybersecurity firm group research director matthew lewis said \n",
      "실제 요약 [77]: successfully android phones with head\n",
      "모델 예측 요약 [77]:  android phone phone was not allowed to look in android founder\n",
      "Summa 요약 [77]: Government officials on Wednesday said that a swine flu outbreak has killed 76 people this year in Rajasthan.\n",
      "\n",
      "====================================================================================================\n",
      "\n",
      "원문 [78]: users reported display samsung galaxy devices turns random issue screen turned either power button letting phone go sleep reports said issue even users devices reports added \n",
      "실제 요약 [78]: users report samsung on\n",
      "모델 예측 요약 [78]:  users to iphone iphone may face users for the iphone claims\n",
      "Summa 요약 [78]: \"North Korean leaders view nuclear arms as critical to regime survival,\" he added.\n",
      "\n",
      "====================================================================================================\n",
      "\n",
      "원문 [79]: three men england confessed running large scale cannabis factory underground nuclear constructed protect government nuclear attack police found cannabis plants capable producing million worth drugs annually powered illegally electricity worth \n",
      "실제 요약 [79]: men nuclear into factory\n",
      "모델 예측 요약 [79]:  people in china plant was carrying japan nuclear plant in years\n",
      "Summa 요약 [79]: Further, three aircraft have been temporarily grounded to carry out an engine normalisation exercise, it added.\n",
      "\n",
      "====================================================================================================\n",
      "\n",
      "원문 [80]: twenty three time grand slam champion serena williams reaching us open quarter finals sunday said coming back pregnancy thought pre victory came day daughter turned one year old happen like instagram world real world takes body come back serena added \n",
      "실제 요약 [80]: back from than thought serena\n",
      "모델 예측 요약 [80]:  serena was not allowed to share same time as us open\n",
      "Summa 요약 [80]: Retired Justice Srikrishna's enquiry panel has found that ex-CEO Chanda Kochhar violated ICICI Bank's code of conduct.\n",
      "\n",
      "====================================================================================================\n",
      "\n",
      "원문 [81]: pope francis saturday criticised naming us military biggest non nuclear explosive mother bombs saying word mother used reference weapon mother gives life one gives death call device mother happening pope added \n",
      "실제 요약 [81]: mother should not be used to bomb pope\n",
      "모델 예측 요약 [81]:  pope asks us to give to wife to wife on syria\n",
      "Summa 요약 [81]: Ex-India cricketer Jacob Martin has been shifted to general ward from the ICU after being on a ventilator for nearly a month following a road accident, wherein he severely injured his lungs.\n",
      "\n",
      "====================================================================================================\n",
      "\n",
      "원문 [82]: rakhi sawant shared videos priest recovery injuries sustained wrestling bout tanushree dutta said faith jesus christ broken jesus disappointed either rakhi choose said teach church say things someone added \n",
      "실제 요약 [82]: you have me or me tanushree\n",
      "모델 예측 요약 [82]:  my dad was not my dream but cannot do it salman\n",
      "Summa 요약 [82]: Tanya accused Perera of meeting country's Sports Minister to secure his place in the team.\n",
      "\n",
      "====================================================================================================\n",
      "\n",
      "원문 [83]: indian spinner yuzvendra chahal six wicket haul england february last year bengaluru named icc performance year playing sixth leg spinner posted figures third best time best indian bowler history india match runs \n",
      "실제 요약 [83]: vs england named of the year\n",
      "모델 예측 요약 [83]:  all wickets in straight series in sa series vs aus series\n",
      "Summa 요약 [83]: Goa CM and ex-Defence Minister Manohar Parrikar has written a letter to Congress President Rahul Gandhi over his claim that Parrikar told him he has nothing to do with new Rafale deal.\n",
      "\n",
      "====================================================================================================\n",
      "\n",
      "원문 [84]: around one million killed truck carrying crashed northern california united states driver escaped minor injuries authorities forced kill water determined could said valued million \n",
      "실제 요약 [84]: million killed after truck crash in us\n",
      "모델 예측 요약 [84]:  man crashes into car crashes into truck carrying crashes into us\n",
      "Summa 요약 [84]: PM Modi then asked his officers to urgently arrange for an ambulance for the cameraman.\n",
      "\n",
      "====================================================================================================\n",
      "\n",
      "원문 [85]: israeli diamond billionaire detained israel police investigating allegations fraud money laundering arrest follows investigation allegations fake contracts drawn number property deals outside israel notably first detained last december allegations arranged bribes secure deal \n",
      "실제 요약 [85]: israeli billionaire arrested in fraud\n",
      "모델 예측 요약 [85]:  israel arrested for fake info on fake deal in uk poll\n",
      "Summa 요약 [85]: A couple got divorced minutes after their wedding ceremony got over in Gujarat's Gondal as a disagreement broke out and relatives from both sides started throwing dishes at each other during lunch.\n",
      "\n",
      "====================================================================================================\n",
      "\n",
      "원문 [86]: reacting tennis player serena williams confirming pregnancy former world number one andy tweeted gonna baby goat referred greatest time often used serena player weeks pregnant confirmed pregnancy wednesday posting picture baby snapchat \n",
      "실제 요약 [86]: be baby ex world no on serena\n",
      "모델 예측 요약 [86]:  serena was serena face to marry me he first time serena\n",
      "Summa 요약 [86]: Gujarat Education Minister Bhupendrasinh Chudasma has written a congratulatory message to a yoga ashram run by rape-convict Asaram's organisation for observing February 14 as \"Matru-Pitru Pujan Divas\" (Mother-Father worship day).\n",
      "\n",
      "====================================================================================================\n",
      "\n",
      "원문 [87]: prime minister narendra modi interview said reservation stay let doubts added constitution dreams still pm modi said everyone responsibility fulfil dreams reservation important tool achieve \n",
      "실제 요약 [87]: to stay let there be no pm narendra modi\n",
      "모델 예측 요약 [87]:  those who said pm modi does not give them to mps\n",
      "Summa 요약 [87]: Venezuelan President NicolÃÂ¡s Maduro has claimed that his American counterpart Donald Trump ordered the Colombian government and the Colombian mafia to kill him.\n",
      "\n",
      "====================================================================================================\n",
      "\n",
      "원문 [88]: congress vice president rahul gandhi slip tongue referred bengaluru newly launched indira inaugural speech every citizen karnataka siddaramaiah government must feel go vision indira said meals provided priced \n",
      "실제 요약 [88]: rahul gandhi calls at\n",
      "모델 예측 요약 [88]:  rahul to get tax free for luru civic body in taka\n",
      "Summa 요약 [88]: The richest among them is Hong Kong's Li Ka Shing with a net worth of $30.5 billion.\n",
      "\n",
      "====================================================================================================\n",
      "\n",
      "원문 [89]: varun dhawan paid crore remo souza directorial per reports fee places league higher ranveer singh ranbir kapoor reports stated dance film also star katrina kaif shot reportedly among first bollywood films shot format \n",
      "실제 요약 [89]: varun dhawan to be paid crore for reports\n",
      "모델 예측 요약 [89]:  varun dhawan to star in law in cr in sanju reports\n",
      "Summa 요약 [89]: Tamil Nadu food safety officials on Wednesday raided and seized 1,000 kgs of banned plastic items from Hotel Saravana Bhavan in Chennai's Vadapalani.\n",
      "\n",
      "====================================================================================================\n",
      "\n",
      "원문 [90]: air india plans vacate space airports sell scrap lying cut costs rajiv bansal said airline also looking cut costs routes including gulf region comes air india crore debt government considering disinvestment airline \n",
      "실제 요약 [90]: air india to space at to cut\n",
      "모델 예측 요약 [90]:  air india to sell its own airline for sale to be\n",
      "Summa 요약 [90]: Actress Shamita Shetty was verbally abused and her driver was slapped in an incident of road rage in Mumbai on Tuesday, as per reports.\n",
      "\n",
      "====================================================================================================\n",
      "\n",
      "원문 [91]: former indian navy officer kulbhushan jadhav mother called ki pakistan media outside country foreign office islamabad meeting son monday jadhav mother wife forced wait car journalists jadhav sentenced death pakistan military court \n",
      "실제 요약 [91]: pakistan media calls jadhav mother ki\n",
      "모델 예측 요약 [91]:  jadhav posts pic with wife pak for his pak meet wife\n",
      "Summa 요약 [91]: Actress Vaani Kapoor said that trolling has become a norm on social media, adding, \"There's no one who hasn't got trolled on social media.\" \"Everybody is out there to pull the other person down but it'll only bother [you] if you let it bother you,\" Vaani added.\n",
      "\n",
      "====================================================================================================\n",
      "\n",
      "원문 [92]: government said nearly operators suspended violating guidelines aadhaar till date operator crossing certain errors added earlier government revealed crore mobile numbers crore bank accounts linked aadhaar till december \n",
      "실제 요약 [92]: aadhaar suspended till date govt\n",
      "모델 예측 요약 [92]:  govt to pay aadhaar for info on aadhaar for aadhaar fraud\n",
      "Summa 요약 [92]: Actress Sushmita Sen took to Instagram to share a joke on the subject of marriage.\n",
      "\"This is an insult to [the] beauty of marriage,\" an Instagram user commented on her post.\n",
      "\n",
      "====================================================================================================\n",
      "\n",
      "원문 [93]: saudi king salman bin al saturday presented us president donald trump gold king medal kingdom top civilian honour king declared trump honoured enhance security stability region around world notably former us president barack obama also awarded honour \n",
      "실제 요약 [93]: saudi king trump with top honour\n",
      "모델 예측 요약 [93]:  trump to get prize for first time in saudi king visit\n",
      "Summa 요약 [93]: Television actor Karanvir Bohra, who flew to Russia on Tuesday to attend a film festival, has been detained in Moscow due to passport damage.\n",
      "\n",
      "====================================================================================================\n",
      "\n",
      "원문 [94]: according reports sunil grover ali mishra feature together upcoming comedy show none shot kapil sharma show following kapil brawl sunil show reportedly also feature abhishek titled comedy company format similar kapil show \n",
      "실제 요약 [94]: sunil to feature together in show report\n",
      "모델 예측 요약 [94]:  kapil sharma to play role in his upcoming film together reports\n",
      "Summa 요약 [94]: While speaking about winning awards for his films, Shah Rukh Khan said, \"If I don't get an award, that award is at a loss.\" \"Sometimes, the prestige of an award increases when I receive it,\" the actor jokingly added.\n",
      "\n",
      "====================================================================================================\n",
      "\n",
      "원문 [95]: short sellers betting tesla lost billion wednesday carmaker shares surged according partners came ceo elon musk told shareholders tesla may goal make model week june end may musk tweeted short burn century coming soon betting tesla \n",
      "실제 요약 [95]: tesla short lose bn in day as stock\n",
      "모델 예측 요약 [95]:  value elon musk shares his biggest plan to buy tesla stock\n",
      "Summa 요약 [95]: Actress Patralekhaa will make her debut in the Kannada film industry with the action-comedy film 'Where is my Kannadaka?' \"I can definitely say that itÃ¢ÂÂs a kind of role that I havenÃ¢ÂÂt portrayed on screen so far and that makes it special for me,\" the actress said in a statement.\n",
      "\n",
      "====================================================================================================\n",
      "\n",
      "원문 [96]: newton director amit said rajkummar rao win national award best actor year done brilliant job newton films also done lot good work year added rao national award best actor film shahid \n",
      "실제 요약 [96]: rajkummar should have won national award director\n",
      "모델 예측 요약 [96]:  there is no one role in the best actor rajkummar rao\n",
      "Summa 요약 [96]: Gmail on Tuesday faced a global outage, which also affected India, wherein certain users complained they faced a '404 error' message while trying to sign-in to their accounts.\n",
      "The error message read: \"The requested URL was not found on this server.\n",
      "\n",
      "====================================================================================================\n",
      "\n",
      "원문 [97]: kumar son bhushan kumar talking upcoming biopic father kumar story said story almost ready aamir khan entire process akshay kumar earlier part film left project due script ranbir kapoor reportedly star biopic akshay exit \n",
      "실제 요약 [97]: aamir in of son\n",
      "모델 예측 요약 [97]:  my dad is not because he is not aamir on dad\n",
      "Summa 요약 [97]: Shiv Sena chief Uddhav Thackeray has asked the BJP to decide about the alliance with the Sena within 15 days and said the BJP should make a concrete proposal on the alliance.\n",
      "\n",
      "====================================================================================================\n",
      "\n",
      "원문 [98]: world health organisation tuesday elected first african director general promising stand rights poor said roads lead universal health coverage rest met replace chan step year term end june \n",
      "실제 요약 [98]: who first ever african director general\n",
      "모델 예측 요약 [98]:  village st nation to contest next elections in st this year\n",
      "Summa 요약 [98]: He said the Opposition is thinking about leading the country but does not have a leader.\n",
      "\n",
      "====================================================================================================\n",
      "\n",
      "원문 [99]: part tower auctioned crore three times original estimate auction paris tuesday year old feet height weighs kilograms includes steps connected top two floors tower cut lift \n",
      "실제 요약 [99]: steps of tower sell for crore at auction in paris\n",
      "모델 예측 요약 [99]:  crore in one day auction for the first time in years\n",
      "Summa 요약 [99]: He added decisions like demonetisation and RERA have put a check on black money that used to be \"parked in the real estate sector\".\n",
      "\n",
      "====================================================================================================\n",
      "\n"
     ]
    }
   ],
   "source": [
    "from summa.summarizer import summarize\n",
    "\n",
    "# 모델 요약과 Summa 요약을 비교\n",
    "for i in range(50, 100):\n",
    "    # 모델을 사용한 요약 생성\n",
    "    original_text = seq2text(encoder_input_test[i])\n",
    "    actual_summary = seq2summary(decoder_input_test[i])\n",
    "    predicted_summary = decode_sequence(encoder_input_test[i].reshape(1, text_max_len))\n",
    "    \n",
    "    # Summa를 사용한 요약 생성\n",
    "    summa_summary = \"\"\n",
    "    data1_text = data1['text'].iloc[i]  # data1에서 텍스트 가져오기\n",
    "    if len(data1_text.split()) > 50:  # 원문이 충분히 길 경우에만 요약 시도\n",
    "        summa_summary = summarize(data1_text, ratio = 0.6)  # 요약 비율 20%로 설정\n",
    "    \n",
    "    if not summa_summary.strip():\n",
    "        summa_summary = \"Summa 요약이 생성되지 않았습니다.\"\n",
    "    \n",
    "    # 결과 출력\n",
    "    print(f\"원문 [{i}]:\", original_text)\n",
    "    print(f\"실제 요약 [{i}]:\", actual_summary)\n",
    "    print(f\"모델 예측 요약 [{i}]:\", predicted_summary)\n",
    "    print(f\"Summa 요약 [{i}]:\", summa_summary)\n",
    "    print(\"\\n\" + \"=\"*100 + \"\\n\")"
   ]
  },
  {
   "cell_type": "code",
   "execution_count": 173,
   "id": "3d769d67",
   "metadata": {},
   "outputs": [
    {
     "data": {
      "text/plain": [
       "'former defence minister manohar parrikar said government conducting trials introducing air soldiers indian special forces special forces operation exercise body uncomfortable air jacket comfortable parrikar said explaining need '"
      ]
     },
     "execution_count": 173,
     "metadata": {},
     "output_type": "execute_result"
    }
   ],
   "source": [
    "seq2text(encoder_input_test[50])"
   ]
  },
  {
   "cell_type": "code",
   "execution_count": 174,
   "id": "4a0a57bc",
   "metadata": {},
   "outputs": [
    {
     "data": {
      "text/plain": [
       "headlines    Yashwant Sinha demands probe into alleged fund...\n",
       "text         Former Finance Minister Yashwant Sinha on Tues...\n",
       "Name: 50, dtype: object"
      ]
     },
     "execution_count": 174,
     "metadata": {},
     "output_type": "execute_result"
    }
   ],
   "source": [
    "data1.iloc[50]"
   ]
  },
  {
   "cell_type": "markdown",
   "id": "a76ed285",
   "metadata": {},
   "source": [
    "인덱스가 같은걸 확인함"
   ]
  },
  {
   "cell_type": "markdown",
   "id": "eb7bd62e",
   "metadata": {},
   "source": [
    "## 회고\n",
    "summarize 전까지는 금방왔는데, summarize에서는 뭐가 문제인지 몰라서 되게 오랜시간을 많이 먹었다.\n",
    "\n",
    "1. summarize를 할때는 전처리를 안한 원본데이터를 꼭 넣어야 한다.\n",
    "2. 키에러가 났을때는 모델을 잘 구성해야한다.\n",
    "\n",
    "텍스트 데이터 너무 어렵다.\n",
    "\n",
    "에러 메시지를 잘 보자는 생각을 잘 한거 같다."
   ]
  }
 ],
 "metadata": {
  "kernelspec": {
   "display_name": "Python 3 (ipykernel)",
   "language": "python",
   "name": "python3"
  },
  "language_info": {
   "codemirror_mode": {
    "name": "ipython",
    "version": 3
   },
   "file_extension": ".py",
   "mimetype": "text/x-python",
   "name": "python",
   "nbconvert_exporter": "python",
   "pygments_lexer": "ipython3",
   "version": "3.9.7"
  }
 },
 "nbformat": 4,
 "nbformat_minor": 5
}
